{
 "cells": [
  {
   "cell_type": "code",
   "execution_count": null,
   "metadata": {},
   "outputs": [],
   "source": [
    "import re"
   ]
  },
  {
   "cell_type": "code",
   "execution_count": null,
   "metadata": {},
   "outputs": [],
   "source": [
    "txt_file: str = '目标文本.txt'"
   ]
  },
  {
   "cell_type": "code",
   "execution_count": null,
   "metadata": {},
   "outputs": [],
   "source": [
    "with open(txt_file, 'r', encoding='utf8') as f:\n",
    "    data = f.read()\n",
    "    print(data[0:2])"
   ]
  },
  {
   "cell_type": "code",
   "execution_count": null,
   "metadata": {},
   "outputs": [],
   "source": [
    "result = re.findall(f'SEL  = (.*?)dB', data)\n",
    "\n",
    "for s in result:\n",
    "    print(s)\n",
    "\n",
    "# for s1, s2 in result_dt:\n",
    "#     print((s2))"
   ]
  },
  {
   "cell_type": "code",
   "execution_count": null,
   "metadata": {},
   "outputs": [],
   "source": [
    "from typing import List\n",
    "import numpy as np\n",
    "import pandas as pd"
   ]
  },
  {
   "cell_type": "code",
   "execution_count": null,
   "metadata": {},
   "outputs": [],
   "source": [
    "df = pd.read_clipboard(parse_dates=['dt'])\n",
    "\n",
    "df.head()"
   ]
  },
  {
   "cell_type": "code",
   "execution_count": null,
   "metadata": {},
   "outputs": [],
   "source": [
    "df.dtypes"
   ]
  },
  {
   "cell_type": "code",
   "execution_count": null,
   "metadata": {},
   "outputs": [],
   "source": [
    "def get_noise_info(\n",
    "    current_datetime,\n",
    "    r1: int,\n",
    "    r2: int,\n",
    "    t_minute: int,\n",
    "    l_eq: float,\n",
    "    sel: float,\n",
    "    lmax: float,\n",
    "    lmin: float,# 最小值和最大值\n",
    "    l5: float,\n",
    "    l10: float,\n",
    "    l50: float,\n",
    "    l90: float,\n",
    "    l95: float,\n",
    "    sd: float,\n",
    "    ) -> str:\n",
    "    current_info_list: List[str] = [\n",
    "        f'{current_datetime}',\n",
    "        'Stat.-One',\n",
    "        f'R: {r1}dB~{r2}dB Ts=00h{t_minute}m00s',\n",
    "        f'Statistics: A F',\n",
    "        f'Leq,T= {l_eq}dB SEL  = {sel}dB',\n",
    "        f'Lmax = {lmax}dB Lmin = {lmin}dB',\n",
    "        f'L5   = {l5}dB L10  = {l10}dB',\n",
    "        f'L50  = {l50}dB L90  = {l90}dB',\n",
    "        f'L95  = {l95}dB SD   = {str(sd).rjust(4, \" \")}dB',\n",
    "        \"\\r\\n\"\n",
    "    ]\n",
    "    noise_string: str = \"\\r\\n\".join(current_info_list)\n",
    "    return noise_string\n"
   ]
  },
  {
   "cell_type": "code",
   "execution_count": null,
   "metadata": {},
   "outputs": [],
   "source": [
    "all_string = []\n",
    "\n",
    "for i in range(df.shape[0]):\n",
    "    current_datetime = df.loc[i, 'dt']\n",
    "    r1 = int(df.loc[i, 'R1'])\n",
    "    r2 = int(df.loc[i, 'R2'])\n",
    "    t_minute = 20\n",
    "    l_eq = float(df.loc[i, 'Leq'])\n",
    "    sel = float(df.loc[i, 'SEQ'])\n",
    "    lmax = float(df.loc[i, 'Lmax'])\n",
    "    lmin = float(df.loc[i, 'Lmin'])# 最小值和最大值\n",
    "    l5 = float(df.loc[i, 'L5'])\n",
    "    l10 = float(df.loc[i, 'L10'])\n",
    "    l50 = float(df.loc[i, 'L50'])\n",
    "    l90 = float(df.loc[i, 'L90'])\n",
    "    l95 = float(df.loc[i, 'L95'])\n",
    "    sd = float(df.loc[i, 'sd'])\n",
    "\n",
    "    row_string: str = get_noise_info(\n",
    "        current_datetime,\n",
    "        r1,\n",
    "        r2,\n",
    "        t_minute,\n",
    "        l_eq,\n",
    "        sel,\n",
    "        lmax,\n",
    "        lmin,\n",
    "        l5,\n",
    "        l10,\n",
    "        l50,\n",
    "        l90,\n",
    "        l95,\n",
    "        sd\n",
    "    )\n",
    "    all_string.append(row_string)\n"
   ]
  },
  {
   "cell_type": "code",
   "execution_count": null,
   "metadata": {},
   "outputs": [],
   "source": [
    "output_str: str = \"\\r\\n\".join(all_string)\n",
    "print(output_str)"
   ]
  }
 ],
 "metadata": {
  "kernelspec": {
   "display_name": "Python 3.8.9 64-bit",
   "language": "python",
   "name": "python3"
  },
  "language_info": {
   "codemirror_mode": {
    "name": "ipython",
    "version": 3
   },
   "file_extension": ".py",
   "mimetype": "text/x-python",
   "name": "python",
   "nbconvert_exporter": "python",
   "pygments_lexer": "ipython3",
   "version": "3.8.9"
  },
  "orig_nbformat": 4,
  "vscode": {
   "interpreter": {
    "hash": "e0144baad0ecee903f108a3e46e51ceadd7da3fc904cfa79747d813b61464b4e"
   }
  }
 },
 "nbformat": 4,
 "nbformat_minor": 2
}
