{
 "cells": [
  {
   "attachments": {},
   "cell_type": "markdown",
   "metadata": {},
   "source": [
    "# 遗传算法解决旅行商问题（详细解释+代码分享）\n",
    "\n",
    "链接：<https://zhuanlan.zhihu.com/p/344588977>\n"
   ]
  },
  {
   "cell_type": "code",
   "execution_count": null,
   "metadata": {},
   "outputs": [],
   "source": [
    "import numpy as np\n",
    "import math\n",
    "import time\n",
    "import pandas as pd"
   ]
  },
  {
   "cell_type": "code",
   "execution_count": null,
   "metadata": {},
   "outputs": [],
   "source": [
    "# def load_data(data_path):\n",
    "#     \"\"\"\n",
    "#     导入数据，得到城市坐标信息\n",
    "#     :param data_path: 数据文件地址 str\n",
    "#     :return: 所有城市的坐标信息 二维 list\n",
    "#     \"\"\"\n",
    "#     cities = []\n",
    "#     with open(data_path, 'r') as f:\n",
    "#         lines = f.readlines()\n",
    "#         for line in lines:\n",
    "#             x_str, y_str = line.split(',')[1:]\n",
    "#             x, y = int(x_str), int(y_str)\n",
    "#             cities.append((x, y))\n",
    "#     return cities"
   ]
  },
  {
   "cell_type": "code",
   "execution_count": null,
   "metadata": {},
   "outputs": [],
   "source": [
    "def get_two_cities_dist(city1, city2):\n",
    "    \"\"\"\n",
    "    计算两个城市的距离\n",
    "    :param city1: 第一个城市 长度为2的list\n",
    "    :param city2: 第二个城市 长度为2的list\n",
    "    :return: 两城市的距离 double\n",
    "    \"\"\"\n",
    "    x_1, y_1 = city1 # 城市的坐标\n",
    "    x_2, y_2 = city2\n",
    "    return math.sqrt(math.pow(x_1 - x_2, 2) + math.pow(y_1 - y_2, 2)) # 计算$\\sqrt{(x_1 - x_2)^2+(y_1 - y_2)^2}$"
   ]
  },
  {
   "cell_type": "code",
   "execution_count": null,
   "metadata": {},
   "outputs": [],
   "source": [
    "def get_cities_distance(cities):\n",
    "    \"\"\"\n",
    "    计算两两城市的距离\n",
    "    :param cities: 所有城市的坐标 二维 list\n",
    "    :return: 城市距离矩阵 numpy数组\n",
    "    \"\"\"\n",
    "    dist_matrix = np.zeros((len(cities), len(cities))) # 生成初始全部为0的$n \\times n$阵列\n",
    "    n_cities = len(cities)\n",
    "    for i in range(n_cities - 1):\n",
    "        for j in range(i + 1, n_cities):\n",
    "            # 循环选择点位\n",
    "            dist = get_two_cities_dist(cities[i], cities[j]) # 计算两个城市的距离\n",
    "            dist_matrix[i, j] = dist # 放入相应点位\n",
    "            dist_matrix[j, i] = dist # 放入斜对称点位\n",
    "    return dist_matrix"
   ]
  },
  {
   "cell_type": "code",
   "execution_count": null,
   "metadata": {},
   "outputs": [],
   "source": [
    "def get_route_fitness_value(route, dist_matrix):\n",
    "    \"\"\"\n",
    "    计算某一路线的适应度\n",
    "    :param route: 路线 长度为城市个数的 ndarray\n",
    "    :param dist_matrix: 距离矩阵 ndarray\n",
    "    :return: 路线的适应度 double\n",
    "    \"\"\"\n",
    "    dist_sum = 0 # 默认距离总和为0\n",
    "    for i in range(len(route) - 1):\n",
    "        # 循环选择路径中的前$n-1$个点位\n",
    "        dist_sum += dist_matrix[route[i], route[i + 1]] # 将第$i$个和第$i+1$个城市之间的距离加入距离总和\n",
    "    # dist_sum += dist_matrix[route[len(route) - 1], route[0]] #加入第$n$个和第$0$个城市的距离\n",
    "    return 1 / dist_sum # 距离总和的倒数即为该条路径的适应度"
   ]
  },
  {
   "cell_type": "code",
   "execution_count": null,
   "metadata": {},
   "outputs": [],
   "source": [
    "def get_all_routes_fitness_value(routes, dist_matrix):\n",
    "    \"\"\"\n",
    "    计算所有路线的适应度\n",
    "    :param routes: 所有路线 ndarray\n",
    "    :param dist_matrix: 距离矩阵 ndarray\n",
    "    :return: 所有路线的适应度 ndarray\n",
    "    \"\"\"\n",
    "    fitness_values = np.zeros(len(routes))\n",
    "    for i in range(len(routes)):\n",
    "        f_value = get_route_fitness_value(routes[i], dist_matrix)\n",
    "        fitness_values[i] = f_value\n",
    "    return fitness_values"
   ]
  },
  {
   "cell_type": "code",
   "execution_count": null,
   "metadata": {},
   "outputs": [],
   "source": [
    "def init_route(n_route, n_cities):\n",
    "    \"\"\"\n",
    "    随机初始化路线\n",
    "    :param n_route: 初始化的路线数量 int\n",
    "    :param n_cities: 城市的数量 int\n",
    "    :return: 路线矩阵 二维ndarray\n",
    "    \"\"\"\n",
    "    routes = np.zeros((n_route, n_cities)).astype(int) # 初始化**路线数量 x 城市数量**的矩阵\n",
    "    for i in range(n_route):\n",
    "        routes[i] = np.random.choice(range(n_cities), size=n_cities, replace=False) # 随机生成乱序的路径，可以用`np.random.shuffle`\n",
    "    return routes"
   ]
  },
  {
   "cell_type": "code",
   "execution_count": null,
   "metadata": {},
   "outputs": [],
   "source": [
    "def selection(routes, fitness_values):\n",
    "    \"\"\"\n",
    "    选择操作\n",
    "    :param routes: 所有路线 ndarray\n",
    "    :param fitness_values: 所有路线的适应度 ndarray\n",
    "    :return: 选择后的所有路线 ndarray\n",
    "    \"\"\"\n",
    "    selected_routes = np.zeros(routes.shape).astype(int) # 初始化选择到的路径矩阵\n",
    "    probability = fitness_values / np.sum(fitness_values) # 将适应度转化为选择概率\n",
    "    n_routes = routes.shape[0]\n",
    "    for i in range(n_routes):\n",
    "        choice = np.random.choice(range(n_routes), p=probability) # 按选择概率选择出路径\n",
    "        selected_routes[i] = routes[choice] # 放置到路径矩阵中相应的位置\n",
    "    return selected_routes"
   ]
  },
  {
   "cell_type": "code",
   "execution_count": null,
   "metadata": {},
   "outputs": [],
   "source": [
    "def crossover(routes, n_cities):\n",
    "    \"\"\"\n",
    "    交叉操作\n",
    "    :param routes: 所有路线 ndarray\n",
    "    :param n_cities: 城市数量 int\n",
    "    :return: 交叉后的所有路线 ndarray\n",
    "    \"\"\"\n",
    "    for i in range(0, len(routes), 2):\n",
    "        r1_new, r2_new = np.zeros(n_cities), np.zeros(n_cities) # 初始化两条空白的路径\n",
    "        seg_point = np.random.randint(0, n_cities) # 随机生成限值的整数，路径从这个点开始交叉\n",
    "        cross_len = n_cities - seg_point # 参与交叉的路径长度\n",
    "        r1, r2 = routes[i], routes[i + 1] # 相邻的两条路径\n",
    "        r1_cross, r2_cross = r2[seg_point:], r1[seg_point:] # 交叉的路径片段\n",
    "        r1_non_cross = r1[np.in1d(r1, r1_cross, invert=True)] # 选出未参与交叉的路径片段\n",
    "        r2_non_cross = r2[np.in1d(r2, r2_cross, invert=True)]\n",
    "        r1_new[:cross_len], r2_new[:cross_len] = r1_cross, r2_cross # 将交叉得到的路径片段放置在空白路径的前方\n",
    "        r1_new[cross_len:], r2_new[cross_len:] = r1_non_cross, r2_non_cross # 将未参与交叉的路径片段放置在空白路径的后方\n",
    "        routes[i], routes[i + 1] = r1_new, r2_new # 将交叉完成的两条新路径放置回原来的位置\n",
    "    return routes"
   ]
  },
  {
   "cell_type": "code",
   "execution_count": null,
   "metadata": {},
   "outputs": [],
   "source": [
    "def mutation(routes, n_cities):\n",
    "    \"\"\"\n",
    "    变异操作，变异概率为 0.01\n",
    "    :param routes: 所有路线 ndarray\n",
    "    :param n_cities: 城市数量 int\n",
    "    :return: 变异后的所有路线 ndarray\n",
    "    \"\"\"\n",
    "    prob = 0.01 # 变异概率\n",
    "    p_rand = np.random.rand(len(routes)) # 随机生成每条路径变异概率的ndarray\n",
    "    for i in range(len(routes)):\n",
    "        if p_rand[i] < prob:\n",
    "            # 若每条路径变异的概率小于指定值，则变异\n",
    "            mut_position = np.random.choice(range(n_cities), size=2, replace=False) # 随机选择两个变异点的位置\n",
    "            l, r = mut_position[0], mut_position[1]\n",
    "            routes[i, l], routes[i, r] = routes[i, r], routes[i, l] # 两个变异点交换\n",
    "    return routes"
   ]
  },
  {
   "cell_type": "code",
   "execution_count": null,
   "metadata": {},
   "outputs": [],
   "source": [
    "# 主程序\n",
    "\n",
    "start = time.time()\n",
    "n_routes = 100  # 路线\n",
    "epoch = 100000  # 迭代次数"
   ]
  },
  {
   "cell_type": "code",
   "execution_count": null,
   "metadata": {},
   "outputs": [],
   "source": [
    "# cities_ = load_data('./cities.csv')  # 导入数据\n",
    "cities_list = [\n",
    "(9860, 14152),\n",
    "(9396, 14616),\n",
    "(11252, 14848),\n",
    "(11020, 13456),\n",
    "(9512, 15776),\n",
    "(10788, 13804),\n",
    "(10208, 14384),\n",
    "(11600, 13456),\n",
    "(11252, 14036),\n",
    "(10672, 15080),\n",
    "(11136, 14152),\n",
    "(9860, 13108),\n",
    "(10092, 14964),\n",
    "(9512, 13340),\n",
    "(10556, 13688),\n",
    "(9628, 14036),\n",
    "(10904, 13108),\n",
    "(11368, 12644),\n",
    "(11252, 13340),\n",
    "(10672, 13340),\n",
    "(11020, 13108),\n",
    "(11020, 13340),\n",
    "(11136, 13572),\n",
    "(11020, 13688),\n",
    "(8468, 11136),\n",
    "(8932, 12064),\n",
    "(9512, 12412),\n",
    "(7772, 11020),\n",
    "(8352, 10672),\n",
    "(9164, 12876),\n",
    "(9744, 12528),\n",
    "(8352, 10324),\n",
    "(8236, 11020),\n",
    "(8468, 12876),\n",
    "(8700, 14036),\n",
    "(8932, 13688),\n",
    "(9048, 13804),\n",
    "(8468, 12296),\n",
    "(8352, 12644),\n",
    "(8236, 13572),\n",
    "(9164, 13340),\n",
    "(8004, 12760),\n",
    "(8584, 13108),\n",
    "(7772, 14732),\n",
    "(7540, 15080),\n",
    "(7424, 17516),\n",
    "(8352, 17052),\n",
    "(7540, 16820),\n",
    "(7888, 17168),\n",
    "(9744, 15196),\n",
    "(9164, 14964),\n",
    "]\n",
    "\n",
    "cities = np.array(cities_list)"
   ]
  },
  {
   "cell_type": "code",
   "execution_count": null,
   "metadata": {},
   "outputs": [],
   "source": [
    "dist_matrix = get_cities_distance(cities)  # 计算城市距离矩阵"
   ]
  },
  {
   "cell_type": "code",
   "execution_count": null,
   "metadata": {},
   "outputs": [],
   "source": [
    "routes = init_route(n_routes, dist_matrix.shape[0])  # 初始化所有路线"
   ]
  },
  {
   "cell_type": "code",
   "execution_count": null,
   "metadata": {},
   "outputs": [],
   "source": [
    "fitness_values = get_all_routes_fitness_value(routes, dist_matrix)  # 计算所有初始路线的适应度"
   ]
  },
  {
   "cell_type": "code",
   "execution_count": null,
   "metadata": {},
   "outputs": [],
   "source": [
    "best_index = fitness_values.argmax() # 所有初始路线中适应度最大的路线所在的索引"
   ]
  },
  {
   "cell_type": "code",
   "execution_count": null,
   "metadata": {},
   "outputs": [],
   "source": [
    "best_route, best_fitness = routes[best_index], fitness_values[best_index]  # 保存最优路线及其适应度"
   ]
  },
  {
   "cell_type": "code",
   "execution_count": null,
   "metadata": {},
   "outputs": [],
   "source": [
    "# 开始迭代\n",
    "not_improve_time = 0 # 未进化次数\n",
    "for i in range(epoch):\n",
    "    routes = selection(routes, fitness_values)  # 选择\n",
    "    routes = crossover(routes, len(cities))  # 交叉\n",
    "    routes = mutation(routes, len(cities))  # 变异\n",
    "    fitness_values = get_all_routes_fitness_value(routes, dist_matrix) # 计算所有路径的适应度\n",
    "    best_route_index = fitness_values.argmax() # 得到适应度最高的路径所在的位置\n",
    "    if fitness_values[best_route_index] > best_fitness: # 若这一代的最佳适应度超过上一代，即这一代的路径长度低于上一代\n",
    "        not_improve_time = 0 # 不进行进化\n",
    "        best_route, best_fitness = routes[best_route_index], fitness_values[best_route_index]  # 保存最优路线及其适应度\n",
    "    else:\n",
    "        not_improve_time += 1\n",
    "    if (i + 1) % 200 == 0:\n",
    "        print('epoch: {}, 当前最优路线距离： {}'.format(i + 1, 1 / get_route_fitness_value(best_route, dist_matrix)))\n",
    "    if not_improve_time >= 2000:\n",
    "        print('连续2000次迭代都没有改变最优路线，结束迭代')\n",
    "        break\n",
    "print('最优路线为：')\n",
    "print(best_route)\n",
    "print('总距离为： {}'.format(1 / get_route_fitness_value(best_route, dist_matrix)))\n",
    "end = time.time()\n",
    "print('耗时: {}s'.format(end - start))"
   ]
  }
 ],
 "metadata": {
  "kernelspec": {
   "display_name": "Python 3.8.9 64-bit",
   "language": "python",
   "name": "python3"
  },
  "language_info": {
   "codemirror_mode": {
    "name": "ipython",
    "version": 3
   },
   "file_extension": ".py",
   "mimetype": "text/x-python",
   "name": "python",
   "nbconvert_exporter": "python",
   "pygments_lexer": "ipython3",
   "version": "3.11.2"
  },
  "orig_nbformat": 4,
  "vscode": {
   "interpreter": {
    "hash": "e0144baad0ecee903f108a3e46e51ceadd7da3fc904cfa79747d813b61464b4e"
   }
  }
 },
 "nbformat": 4,
 "nbformat_minor": 2
}
