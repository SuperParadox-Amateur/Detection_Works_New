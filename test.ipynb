{
 "cells": [
  {
   "cell_type": "markdown",
   "metadata": {},
   "source": [
    "# 代码测试\n",
    "\n",
    "## 按照汉字拼音排序\n"
   ]
  },
  {
   "cell_type": "code",
   "execution_count": null,
   "metadata": {},
   "outputs": [],
   "source": [
    "import locale\n",
    "from functools import cmp_to_key\n",
    "import pandas as pd"
   ]
  },
  {
   "cell_type": "code",
   "execution_count": null,
   "metadata": {},
   "outputs": [],
   "source": [
    "locale.setlocale(locale.LC_COLLATE, 'zh_CN.utf8')"
   ]
  },
  {
   "cell_type": "code",
   "execution_count": null,
   "metadata": {},
   "outputs": [],
   "source": [
    "str_list = ['硫', '氨', '氯', '碳', '氧', '氯化氢']\n",
    "str_list"
   ]
  },
  {
   "cell_type": "code",
   "execution_count": null,
   "metadata": {},
   "outputs": [],
   "source": [
    "a = sorted(str_list, key=cmp_to_key(locale.strcoll))\n",
    "a"
   ]
  },
  {
   "cell_type": "code",
   "execution_count": null,
   "metadata": {},
   "outputs": [],
   "source": [
    "sorted(str_list, key=lambda x: x.encode('gbk'))"
   ]
  },
  {
   "cell_type": "code",
   "execution_count": null,
   "metadata": {},
   "outputs": [],
   "source": [
    "df = pd.DataFrame(str_list, columns=['str'])\n",
    "df['num'] = list(range(0, len(str_list)))"
   ]
  },
  {
   "cell_type": "code",
   "execution_count": null,
   "metadata": {},
   "outputs": [],
   "source": [
    "df.sort_values(by='str', key=lambda x: x.str.encode('gbk'), ignore_index=True) # type: ignore"
   ]
  },
  {
   "cell_type": "markdown",
   "metadata": {},
   "source": [
    "## 向一个excel文件循环写入数据\n"
   ]
  },
  {
   "cell_type": "code",
   "execution_count": null,
   "metadata": {},
   "outputs": [],
   "source": [
    "import pandas as pd"
   ]
  },
  {
   "cell_type": "code",
   "execution_count": null,
   "metadata": {},
   "outputs": [],
   "source": [
    "with pd.ExcelWriter('test.xlsx') as writer:\n",
    "    for i in range(1, 4):\n",
    "        df = pd.DataFrame(data=[i], columns=['num'])\n",
    "        df.to_excel(writer, sheet_name=f'sheet{i}', index=False) # type: ignore"
   ]
  },
  {
   "cell_type": "markdown",
   "metadata": {},
   "source": [
    "## 动态变量名\n",
    "\n",
    "### `globals`方法\n",
    "\n",
    "```python\n",
    "for x in range(0, 7):\n",
    "    globals()[f\"variable{x}\"] = f\"Hello the variable number {x}!\"\n",
    "\n",
    "print(variable5)\n",
    "```"
   ]
  },
  {
   "cell_type": "markdown",
   "metadata": {},
   "source": [
    "### `locals()`方法\n",
    "\n",
    "```python\n",
    "for x in range(0, 7):\n",
    "    locals()[f\"variable{x}\"] = f\"Hello the variable number {x}!\"\n",
    "\n",
    "print(variable5)\n",
    "```"
   ]
  },
  {
   "cell_type": "markdown",
   "metadata": {},
   "source": [
    "### 新`locals()`方法\n"
   ]
  },
  {
   "cell_type": "code",
   "execution_count": null,
   "metadata": {},
   "outputs": [],
   "source": [
    "# 定义变量名的规律\n",
    "variable_name_pattern = \"variable_{}\"\n",
    "\n",
    "# 定义生成变量的数量\n",
    "num_variables = 5\n",
    "\n",
    "# 循环生成变量名\n",
    "for i in range(num_variables):\n",
    "  variable_name = variable_name_pattern.format(i+1)\n",
    "  # 将生成的变量名用于给变量赋值\n",
    "  locals()[variable_name] = i + 10\n",
    "  print(variable_name, locals()[variable_name])"
   ]
  },
  {
   "cell_type": "markdown",
   "metadata": {},
   "source": [
    "### 转换xlsx为csv\n"
   ]
  },
  {
   "cell_type": "code",
   "execution_count": null,
   "metadata": {},
   "outputs": [],
   "source": [
    "import pandas as pd\n",
    "\n",
    "file_path = r'./info_files/检测因素参考信息.xlsx'\n",
    "\n",
    "df = pd.read_excel(file_path)\n",
    "df.to_csv('./info_files/检测因素参考信息.csv', index=False)"
   ]
  },
  {
   "cell_type": "markdown",
   "metadata": {},
   "source": [
    "## 采样工作脚本测试\n",
    "\n",
    "### 职业卫生\n",
    "\n",
    "#### 模板0测试\n"
   ]
  },
  {
   "cell_type": "code",
   "execution_count": null,
   "metadata": {},
   "outputs": [],
   "source": [
    "import io\n",
    "import os\n",
    "import math\n",
    "from copy import deepcopy\n",
    "from docx import Document\n",
    "import openpyxl\n",
    "import pandas as pd\n",
    "from nptyping import DataFrame\n",
    "# from pandas.api.types import CategoricalDtype\n",
    "from occupational_health_module.occupational_health import OccupationalHealthItemInfo#, refresh_engaged_num\n",
    "from occupational_health_module.write_docx_templates import templates_info"
   ]
  },
  {
   "cell_type": "code",
   "execution_count": null,
   "metadata": {},
   "outputs": [],
   "source": [
    "company_name: str = 'MSCN'\n",
    "project_name: str = '23ZXP0000'\n",
    "\n",
    "file_path: str = r'./templates/项目信息试验模板.xlsx'\n",
    "point_info_df: DataFrame = pd.read_excel(file_path, sheet_name='定点') # type: ignore\n",
    "personnel_info_df: DataFrame = pd.read_excel(file_path, sheet_name='个体') # type: ignore"
   ]
  },
  {
   "cell_type": "code",
   "execution_count": null,
   "metadata": {},
   "outputs": [],
   "source": [
    "new_project = OccupationalHealthItemInfo(company_name, project_name, point_info_df, personnel_info_df)"
   ]
  },
  {
   "cell_type": "code",
   "execution_count": null,
   "metadata": {},
   "outputs": [],
   "source": [
    "new_project.output_deleterious_substance_info_dict['1']['定点'].head()"
   ]
  },
  {
   "cell_type": "code",
   "execution_count": null,
   "metadata": {},
   "outputs": [],
   "source": [
    "available_cols = [\n",
    "    '采样点编号',\n",
    "    '单元',\n",
    "    '检测地点',\n",
    "    '工种',\n",
    "    '检测因素',\n",
    "    '采样数量/天',\n",
    "    '采样日程',\n",
    "    '收集方式',\n",
    "]\n",
    "\n",
    "test_df = (\n",
    "    new_project\n",
    "    .output_deleterious_substance_info_dict\n",
    "    ['1']['定点']\n",
    "    [available_cols]\n",
    ")\n",
    "\n",
    "test_df.head()"
   ]
  },
  {
   "cell_type": "code",
   "execution_count": null,
   "metadata": {},
   "outputs": [],
   "source": [
    "pivot_test_df = pd.pivot_table(\n",
    "    data=test_df,\n",
    "    index=['采样点编号', '采样数量/天', '收集方式'],\n",
    "    # values=['收集方式'],\n",
    "    aggfunc={'收集方式': 'count'}\n",
    ").rename(columns={\"收集方式\": \"数量\"}).reset_index()\n",
    "\n",
    "# pivot_test_df['次数']\n",
    "\n",
    "pivot_test_df.head()"
   ]
  },
  {
   "cell_type": "code",
   "execution_count": null,
   "metadata": {},
   "outputs": [],
   "source": [
    "# new_project.writer_output_deleterious_substance_info()"
   ]
  },
  {
   "cell_type": "markdown",
   "metadata": {},
   "source": [
    "#### 模板1测试\n"
   ]
  },
  {
   "cell_type": "code",
   "execution_count": null,
   "metadata": {},
   "outputs": [],
   "source": [
    "company_name: str = 'MSCN'\n",
    "project_name: str = '23ZXP0001'\n",
    "\n",
    "file_path: str = r'./templates/项目信息试验模板1.xlsx'\n",
    "point_info_df: DataFrame = pd.read_excel(file_path, sheet_name='定点') # type: ignore\n",
    "personnel_info_df: DataFrame = pd.read_excel(file_path, sheet_name='个体') # type: ignore"
   ]
  },
  {
   "cell_type": "code",
   "execution_count": null,
   "metadata": {},
   "outputs": [],
   "source": [
    "project_1 = OccupationalHealthItemInfo(company_name, project_name, point_info_df, personnel_info_df)"
   ]
  },
  {
   "cell_type": "code",
   "execution_count": null,
   "metadata": {},
   "outputs": [],
   "source": [
    "project_1.get_single_day_blank_df(0, 1)"
   ]
  },
  {
   "cell_type": "code",
   "execution_count": null,
   "metadata": {},
   "outputs": [],
   "source": [
    "project_1.get_single_day_point_df(0, 1)"
   ]
  },
  {
   "cell_type": "code",
   "execution_count": null,
   "metadata": {},
   "outputs": [],
   "source": [
    "# project_1.get_dfs_num(project_1.default_types_order)"
   ]
  },
  {
   "cell_type": "markdown",
   "metadata": {},
   "source": [
    "#### 模板2测试\n"
   ]
  },
  {
   "cell_type": "code",
   "execution_count": null,
   "metadata": {},
   "outputs": [],
   "source": [
    "company_name: str = 'MSCN'\n",
    "project_name: str = '23ZXP0002'\n",
    "\n",
    "file_path: str = r'./templates/项目信息试验模板2.xlsx'\n",
    "point_info_df: DataFrame = pd.read_excel(file_path, sheet_name='定点') # type: ignore\n",
    "personnel_info_df: DataFrame = pd.read_excel(file_path, sheet_name='个体') # type: ignore"
   ]
  },
  {
   "cell_type": "code",
   "execution_count": null,
   "metadata": {},
   "outputs": [],
   "source": [
    "project_2 = OccupationalHealthItemInfo(company_name, project_name, point_info_df, personnel_info_df)"
   ]
  },
  {
   "cell_type": "code",
   "execution_count": null,
   "metadata": {},
   "outputs": [],
   "source": [
    "# project_2.get_dfs_num(project_2.default_types_order)"
   ]
  },
  {
   "cell_type": "markdown",
   "metadata": {},
   "source": [
    "#### 模板3测试\n"
   ]
  },
  {
   "cell_type": "code",
   "execution_count": null,
   "metadata": {},
   "outputs": [],
   "source": [
    "company_name: str = 'MSCN'\n",
    "project_name: str = '23ZXP0003'\n",
    "\n",
    "file_path: str = r'./templates/项目信息试验模板3.xlsx'\n",
    "point_info_df: DataFrame = pd.read_excel(file_path, sheet_name='定点') # type: ignore\n",
    "personnel_info_df: DataFrame = pd.read_excel(file_path, sheet_name='个体') # type: ignore"
   ]
  },
  {
   "cell_type": "code",
   "execution_count": null,
   "metadata": {},
   "outputs": [],
   "source": [
    "project_3 = OccupationalHealthItemInfo(company_name, project_name, point_info_df, personnel_info_df)"
   ]
  },
  {
   "cell_type": "code",
   "execution_count": null,
   "metadata": {},
   "outputs": [],
   "source": [
    "current_blank_df = project_3.get_single_day_blank_df(0, 1)\n",
    "\n",
    "current_blank_df.head()"
   ]
  },
  {
   "cell_type": "code",
   "execution_count": null,
   "metadata": {},
   "outputs": [],
   "source": [
    "current_point_df = project_3.get_single_day_point_df(10, 1)\n",
    "\n",
    "current_point_df.head()"
   ]
  },
  {
   "cell_type": "code",
   "execution_count": null,
   "metadata": {},
   "outputs": [],
   "source": [
    "r_current_point_df: DataFrame = pd.merge(current_point_df, current_blank_df, how='left', on='标识检测因素').fillna(0)\n",
    "r_current_point_df['样品编号'] = r_current_point_df.apply(project_3.get_exploded_point_df, axis=1)\n",
    "r_current_point_df['代表时长'] = (\n",
    "                    r_current_point_df.apply(lambda df: \n",
    "                    project_3.get_exploded_contact_duration(df['日接触时间'], df['采样数量/天'], 4),\n",
    "                    axis=1\n",
    "                    )\n",
    "                )\n",
    "\n",
    "r_current_point_df.head()"
   ]
  },
  {
   "cell_type": "code",
   "execution_count": null,
   "metadata": {},
   "outputs": [],
   "source": [
    "r_current_point_df.loc[0]"
   ]
  },
  {
   "cell_type": "code",
   "execution_count": null,
   "metadata": {},
   "outputs": [],
   "source": [
    "r_current_point_df.apply(project_3.get_exploded_point_df, axis=1)"
   ]
  },
  {
   "cell_type": "code",
   "execution_count": null,
   "metadata": {},
   "outputs": [],
   "source": [
    "r_current_point_df['代表时长'] = (  # type: ignore\n",
    "                    r_point_df.apply(lambda df:   # type: ignore\n",
    "                    project_3.get_exploded_contact_duration(df['日接触时间'], df['采样数量/天'], 4),\n",
    "                    axis=1\n",
    "                    )\n",
    "                )\n",
    "\n",
    "r_current_point_df.head()"
   ]
  },
  {
   "cell_type": "code",
   "execution_count": null,
   "metadata": {},
   "outputs": [],
   "source": [
    "r_current_point_df.explode(['样品编号', '代表时长'])"
   ]
  },
  {
   "cell_type": "code",
   "execution_count": null,
   "metadata": {},
   "outputs": [],
   "source": [
    "# project_3.get_dfs_num(project_3.default_types_order)"
   ]
  },
  {
   "cell_type": "markdown",
   "metadata": {},
   "source": [
    "### 记录表模板写入测试\n",
    "\n",
    "#### 定点\n"
   ]
  },
  {
   "cell_type": "code",
   "execution_count": null,
   "metadata": {},
   "outputs": [],
   "source": [
    "import os\n",
    "from copy import deepcopy\n",
    "from docx import Document"
   ]
  },
  {
   "cell_type": "code",
   "execution_count": null,
   "metadata": {},
   "outputs": [],
   "source": [
    "docx_pathes = [\n",
    "    './templates/有害物质定点采样记录.docx',\n",
    "    './templates/有害物质个体采样记录.docx',\n",
    "    './templates/定点噪声.docx',\n",
    "    './templates/高温.docx',\n",
    "    './templates/个体噪声.docx',\n",
    "    './templates/一氧化碳.docx',\n",
    "]"
   ]
  },
  {
   "cell_type": "code",
   "execution_count": null,
   "metadata": {},
   "outputs": [],
   "source": [
    "for i, docx_path in enumerate(docx_pathes):\n",
    "    document = Document(docx_path)\n",
    "    table_pages = 5\n",
    "    if table_pages == 1:\n",
    "        rm_table = document.tables[2]\n",
    "        t = rm_table._element\n",
    "        t.getparent().remove(t)\n",
    "    \n",
    "        paragraphs = document.paragraphs\n",
    "        rm_paragraphs1 = paragraphs[-1]\n",
    "        rm_p1 = rm_paragraphs1._element\n",
    "        rm_p1.getparent().remove(rm_p1)\n",
    "    \n",
    "        rm_paragraphs2 = paragraphs[-2]\n",
    "        rm_p2 = rm_paragraphs2._element\n",
    "        rm_p2.getparent().remove(rm_p2)\n",
    "    elif table_pages == 2:\n",
    "        pass\n",
    "    else:\n",
    "        for _ in range(table_pages - 2):\n",
    "            cp_table = document.tables[2]\n",
    "            new_table = deepcopy(cp_table)\n",
    "            # document.add_page_break()\n",
    "            new_paragraph = document.add_page_break()\n",
    "            new_paragraph._p.addnext(new_table._element)\n",
    "            document.add_paragraph()\n",
    "    document.save(f'{os.path.expanduser(\"~/Desktop\")}/t{i}.docx')"
   ]
  },
  {
   "cell_type": "code",
   "execution_count": null,
   "metadata": {},
   "outputs": [],
   "source": [
    "templates_info = {\n",
    "    '定点有害物质': {\n",
    "        'template_path': './templates/有害物质个体采样记录.docx',\n",
    "        'direct-reading': False,\n",
    "        'project_num_row': 0,\n",
    "        'project_num_col': 1,\n",
    "        'company_name_row': 0,\n",
    "        'company_name_col': 4,\n",
    "        'deleterious_substance_row': 3,\n",
    "        'deleterious_substance_col': 1,\n",
    "        'first_page_rows': 18,\n",
    "        'late_page_rows': 24,\n",
    "        'title_rows': 2,\n",
    "        'item_rows': 6,\n",
    "        'available_cols': [0, 1, 2, 4]\n",
    "    },\n",
    "    '个体有害物质': {\n",
    "        'template_path': './templates/有害物质个体采样记录.docx',\n",
    "        'direct-reading': False,\n",
    "        'project_num_row': 0,\n",
    "        'project_num_col': 1,\n",
    "        'company_name_row': 0,\n",
    "        'company_name_col': 4,\n",
    "        'deleterious_substance_row': 3,\n",
    "        'deleterious_substance_col': 1,\n",
    "        'first_page_rows': 5,\n",
    "        'late_page_rows': 6,\n",
    "        'title_rows': 2,\n",
    "        'item_rows': 3,\n",
    "        'available_cols': [0, 1, 2, 4]\n",
    "    },\n",
    "    '定点噪声': {\n",
    "        'template_path': './templates/定点噪声.docx',\n",
    "        'direct-reading': True,\n",
    "        'project_num_row': 0,\n",
    "        'project_num_col': 1,\n",
    "        'company_name_row': 1,\n",
    "        'company_name_col': 1,\n",
    "        'deleterious_substance_row': 3,\n",
    "        'deleterious_substance_col': 1,\n",
    "        'first_page_rows': 10,\n",
    "        'late_page_rows': 12,\n",
    "        'title_rows': 2,\n",
    "        'item_rows': 1,\n",
    "        'available_cols': [0, 1, 2]\n",
    "    },\n",
    "    '个体噪声': {\n",
    "        'template_path': './templates/个体噪声.docx',\n",
    "        'direct-reading': True,\n",
    "        'project_num_row': 0,\n",
    "        'project_num_col': 1,\n",
    "        'company_name_row': 1,\n",
    "        'company_name_col': 1,\n",
    "        'deleterious_substance_row': 3,\n",
    "        'deleterious_substance_col': 1,\n",
    "        'first_page_rows': 9,\n",
    "        'late_page_rows': 11,\n",
    "        'title_rows': 2,\n",
    "        'item_rows': 1,\n",
    "        'available_cols': [0, 1, 2]\n",
    "    },\n",
    "    '高温': {\n",
    "        'template_path': './templates/高温.docx',\n",
    "        'direct-reading': True,\n",
    "        'project_num_row': 0,\n",
    "        'project_num_col': 1,\n",
    "        'company_name_row': 1,\n",
    "        'company_name_col': 1,\n",
    "        'deleterious_substance_row': 3,\n",
    "        'deleterious_substance_col': 1,\n",
    "        'first_page_rows': 9,\n",
    "        'late_page_rows': 18,\n",
    "        'title_rows': 3,\n",
    "        'item_rows': 3,\n",
    "        'available_cols': [0, 1]\n",
    "    },\n",
    "    '一氧化碳': {\n",
    "        'template_path': './templates/一氧化碳.docx',\n",
    "        'direct-reading': True,\n",
    "        'project_num_row': 0,\n",
    "        'project_num_col': 1,\n",
    "        'company_name_row': 0,\n",
    "        'company_name_col': 3,\n",
    "        'deleterious_substance_row': 3,\n",
    "        'deleterious_substance_col': 1,\n",
    "        'first_page_rows': 20,\n",
    "        'late_page_rows': 20,\n",
    "        'title_rows': 2,\n",
    "        'item_rows': 4,\n",
    "        'available_cols': [0, 1]\n",
    "    },\n",
    "}"
   ]
  },
  {
   "cell_type": "code",
   "execution_count": null,
   "metadata": {},
   "outputs": [],
   "source": [
    "import os\n",
    "from docx import Document\n",
    "import pandas as pd\n",
    "from occupational_health_module.write_docx_templates import templates_info"
   ]
  },
  {
   "cell_type": "code",
   "execution_count": null,
   "metadata": {},
   "outputs": [],
   "source": [
    "factor = '一氧化碳'\n",
    "current_factor_info = templates_info[factor]"
   ]
  },
  {
   "cell_type": "code",
   "execution_count": null,
   "metadata": {},
   "outputs": [],
   "source": [
    "file_path = current_factor_info['template_path']\n",
    "doc = Document(file_path)"
   ]
  },
  {
   "cell_type": "code",
   "execution_count": null,
   "metadata": {},
   "outputs": [],
   "source": [
    "df = pd.DataFrame(columns=list(range(3)), index=list(range(10)))\n",
    "\n",
    "df.head()"
   ]
  },
  {
   "cell_type": "code",
   "execution_count": null,
   "metadata": {},
   "outputs": [],
   "source": [
    "for i in range(10):\n",
    "    for j in range(3):\n",
    "        df.iloc[i, j] = f'{i}-{j}'"
   ]
  },
  {
   "cell_type": "code",
   "execution_count": null,
   "metadata": {},
   "outputs": [],
   "source": [
    "df.head()"
   ]
  },
  {
   "cell_type": "code",
   "execution_count": null,
   "metadata": {},
   "outputs": [],
   "source": [
    "current_df = df.query('index >= 0 and index <= 10')\n",
    "\n",
    "current_df.head()"
   ]
  },
  {
   "cell_type": "code",
   "execution_count": null,
   "metadata": {},
   "outputs": [],
   "source": [
    "rows_num = current_factor_info['item_rows']\n",
    "title_num = current_factor_info['title_rows']\n",
    "\n",
    "for i in range(4):\n",
    "    current_cell = doc.tables[2].rows[i * rows_num + title_num].cells[0]\n",
    "    current_cell.text = current_df.iloc[i, 0]"
   ]
  },
  {
   "cell_type": "code",
   "execution_count": null,
   "metadata": {},
   "outputs": [],
   "source": [
    "doc.save(f'{os.path.expanduser(\"~/desktop\")}/t{factor}.docx')"
   ]
  },
  {
   "cell_type": "markdown",
   "metadata": {},
   "source": [
    "### 接触时间分开\n"
   ]
  },
  {
   "cell_type": "code",
   "execution_count": null,
   "metadata": {},
   "outputs": [],
   "source": [
    "from decimal import Decimal, ROUND_HALF_DOWN\n",
    "from typing import List\n",
    "import os\n",
    "import pandas as pd\n",
    "import numpy as np"
   ]
  },
  {
   "cell_type": "code",
   "execution_count": null,
   "metadata": {},
   "outputs": [],
   "source": [
    "def split_time(time: float, size: int) -> List[float]:\n",
    "    # 接触时间和数量转为十进制\n",
    "    time_dec: Decimal = Decimal(str(time))\n",
    "    size_dec: Decimal = Decimal(str(size))\n",
    "    time_list_dec: List[Decimal] = [] # 存放代表时长列表\n",
    "\n",
    "    # 判断接触时间的小数位数\n",
    "    if time == int(time):\n",
    "        time_prec: int = 0\n",
    "    else:\n",
    "        time_prec: int = int(time_dec.as_tuple().exponent)\n",
    "\n",
    "    # 如果接触时间不能让每个代表时长大于0.25，则不分开\n",
    "    if time_dec < Decimal('0.25') * size_dec:\n",
    "        time_list_dec.append(time_dec)\n",
    "    # 如果分开的代表时长小于0.3，则保证代表时长以0.25为最多\n",
    "    elif time_dec < Decimal('0.3') * size_dec:\n",
    "        front_time_list_dec: List[Decimal] = [Decimal('0.25')] * (int(size) - 1)\n",
    "        last_time_dec: Decimal = time_dec - sum(front_time_list_dec)\n",
    "        time_list_dec.extend(front_time_list_dec)\n",
    "        time_list_dec.append(last_time_dec)\n",
    "    # elif time_dec < Decimal('0.5') * size_dec:\n",
    "    #     front_time_list_dec: List[Decimal] = [Decimal('0.3')] * (int(size) - 1)\n",
    "    #     last_time_dec: Decimal = time_dec - sum(front_time_list_dec)\n",
    "    #     time_list_dec.extend(front_time_list_dec)\n",
    "    #     time_list_dec.append(last_time_dec)\n",
    "    # elif time_dec < Decimal('0.7') * size_dec:\n",
    "    #     front_time_list_dec: List[Decimal] = [Decimal('0.5')] * (int(size) - 1)\n",
    "    #     last_time_dec: Decimal = time_dec - sum(front_time_list_dec)\n",
    "    #     time_list_dec.extend(front_time_list_dec)\n",
    "    #     time_list_dec.append(last_time_dec)\n",
    "    else:\n",
    "        if time_prec == 2:\n",
    "            prec_str: str = '0.00'\n",
    "        elif time_prec == 1:\n",
    "            prec_str: str = '0.0'\n",
    "        else:\n",
    "            prec_str: str = '0'\n",
    "        judge_result: Decimal = time_dec / size_dec\n",
    "        for i in range(int(size) - 1):\n",
    "            result: Decimal = judge_result.quantize(Decimal(prec_str), ROUND_HALF_DOWN)\n",
    "            time_list_dec.append(result)\n",
    "        last_result: Decimal = time_dec - sum(time_list_dec)\n",
    "        time_list_dec.append(last_result)\n",
    "\n",
    "    time_list: List[float] = sorted(list(map(float, time_list_dec)), reverse=False)\n",
    "    # blank_list: list[float] = [0., 0.]\n",
    "    # extra_time_list: List[float] = [0.] * (4 - len(time_list))\n",
    "    # all_time_list: List[float] = blank_list + time_list + extra_time_list\n",
    "    # return all_time_list\n",
    "    return time_list"
   ]
  },
  {
   "cell_type": "code",
   "execution_count": null,
   "metadata": {},
   "outputs": [],
   "source": [
    "split_time(0.9, 3)"
   ]
  },
  {
   "cell_type": "code",
   "execution_count": null,
   "metadata": {},
   "outputs": [],
   "source": [
    "split_time(1.5, 3)"
   ]
  },
  {
   "cell_type": "code",
   "execution_count": null,
   "metadata": {},
   "outputs": [],
   "source": [
    "df1 = pd.DataFrame({\n",
    "    \"time\": np.arange(1, 1001) / 100,\n",
    "    \"size\": np.full(1000, 3)\n",
    "})\n",
    "\n",
    "df1.head()"
   ]
  },
  {
   "cell_type": "code",
   "execution_count": null,
   "metadata": {},
   "outputs": [],
   "source": [
    "df2 = pd.DataFrame({\n",
    "    \"time\": np.arange(1, 1001) / 100,\n",
    "    \"size\": np.full(1000, 2)\n",
    "})\n",
    "\n",
    "df2.head()"
   ]
  },
  {
   "cell_type": "code",
   "execution_count": null,
   "metadata": {},
   "outputs": [],
   "source": [
    "df1['timelist'] = df1.apply(lambda x: split_time(x['time'], x['size']), axis=1)\n",
    "# df1 = df1.explode('timelist')\n",
    "\n",
    "df1.head()"
   ]
  },
  {
   "cell_type": "code",
   "execution_count": null,
   "metadata": {},
   "outputs": [],
   "source": [
    "df2['timelist'] = df2.apply(lambda x: split_time(x['time'], x['size']), axis=1)\n",
    "# df2 = df2.explode('timelist')\n",
    "\n",
    "df2.head()"
   ]
  },
  {
   "cell_type": "code",
   "execution_count": null,
   "metadata": {},
   "outputs": [],
   "source": [
    "with pd.ExcelWriter(os.path.join(os.path.expanduser(\"~/desktop\"), '采样时长划分测试.xlsx')) as excelfile:\n",
    "    df1.to_excel(excelfile, sheet_name='数量3', index=False)\n",
    "    df2.to_excel(excelfile, sheet_name='数量2', index=False)"
   ]
  },
  {
   "cell_type": "markdown",
   "metadata": {},
   "source": [
    "### docx模板里的表格合并测试\n"
   ]
  },
  {
   "cell_type": "code",
   "execution_count": null,
   "metadata": {},
   "outputs": [],
   "source": [
    "import os\n",
    "from docx import Document"
   ]
  },
  {
   "cell_type": "code",
   "execution_count": null,
   "metadata": {},
   "outputs": [],
   "source": [
    "template_docx_path: str = './templates/有害物质定点采样记录.docx'\n",
    "\n",
    "doc = Document(template_docx_path)"
   ]
  },
  {
   "cell_type": "code",
   "execution_count": null,
   "metadata": {},
   "outputs": [],
   "source": [
    "tables = doc.tables\n",
    "current_table = tables[1]\n",
    "current_cell = current_table.cell(4, 9)\n",
    "current_cell.text = '123'\n",
    "\n",
    "current_merge_cell = current_table.cell(6, 9)\n",
    "\n",
    "current_cell.merge(current_merge_cell)"
   ]
  },
  {
   "cell_type": "code",
   "execution_count": null,
   "metadata": {},
   "outputs": [],
   "source": [
    "doc.save(os.path.join(os.path.expanduser(\"~/desktop\"), '合并单元格.docx'))"
   ]
  },
  {
   "cell_type": "markdown",
   "metadata": {},
   "source": [
    "## 随机噪声值和等效噪声值\n"
   ]
  },
  {
   "cell_type": "code",
   "execution_count": null,
   "metadata": {},
   "outputs": [],
   "source": [
    "import pandas as pd\n",
    "import os\n",
    "from occupational_noise_module.occupational_noise import OccupationalNoiseInfo"
   ]
  },
  {
   "cell_type": "code",
   "execution_count": null,
   "metadata": {},
   "outputs": [],
   "source": [
    "file_path: str ='./templates/噪声值模板.csv'\n",
    "\n",
    "df = pd.read_csv(file_path)\n",
    "\n",
    "df.head()"
   ]
  },
  {
   "cell_type": "code",
   "execution_count": null,
   "metadata": {},
   "outputs": [],
   "source": [
    "noise = OccupationalNoiseInfo(df, 1., 3)"
   ]
  },
  {
   "cell_type": "code",
   "execution_count": null,
   "metadata": {},
   "outputs": [],
   "source": [
    "noise.new_noise_df.head()"
   ]
  },
  {
   "cell_type": "markdown",
   "metadata": {},
   "source": [
    "### 接触时间划分（新）\n"
   ]
  },
  {
   "cell_type": "code",
   "execution_count": null,
   "metadata": {},
   "outputs": [],
   "source": [
    "from decimal import Decimal, ROUND_HALF_DOWN, ROUND_HALF_UP, ROUND_DOWN, ROUND_UP\n",
    "from typing import List, Dict\n",
    "import os\n",
    "import pandas as pd\n",
    "import numpy as np"
   ]
  },
  {
   "cell_type": "code",
   "execution_count": null,
   "metadata": {},
   "outputs": [],
   "source": [
    "# 接触时间和数量转为十进制\n",
    "time: float = 4.01\n",
    "size: int = 3\n",
    "time_dec: Decimal = Decimal(str(time))\n",
    "size_dec: Decimal = Decimal(str(size))"
   ]
  },
  {
   "cell_type": "code",
   "execution_count": null,
   "metadata": {},
   "outputs": [],
   "source": [
    "time_list_dec: List[Decimal] = [] # 存放代表时长列表"
   ]
  },
  {
   "cell_type": "code",
   "execution_count": null,
   "metadata": {},
   "outputs": [],
   "source": [
    "# 判断接触时间的小数位数\n",
    "if time == int(time):\n",
    "    time_prec: int = 0\n",
    "else:\n",
    "    time_prec: int = int(time_dec.as_tuple().exponent)\n",
    "\n",
    "time_prec"
   ]
  },
  {
   "cell_type": "code",
   "execution_count": null,
   "metadata": {},
   "outputs": [],
   "source": [
    "# 确定基本平均值的小数位数\n",
    "time_prec_dec_dict: Dict[int, Decimal] = {\n",
    "    0: Decimal('0'),\n",
    "    -1: Decimal('0.0'),\n",
    "    -2: Decimal('0.0')\n",
    "}\n",
    "prec_dec_str: Decimal = time_prec_dec_dict[time_prec]\n",
    "\n",
    "prec_dec_str"
   ]
  },
  {
   "cell_type": "code",
   "execution_count": null,
   "metadata": {},
   "outputs": [],
   "source": [
    "# 如果接触时间不能让每个代表时长大于0.25，则不分开\n",
    "if time_dec < Decimal('0.25') * size_dec:\n",
    "    time_list_dec.append(time_dec)\n",
    "else:\n",
    "    judge_result: Decimal = time_dec / size_dec\n",
    "    for i in range(int(size) - 1):\n",
    "        result: Decimal = judge_result.quantize(prec_dec_str, ROUND_DOWN)\n",
    "        time_list_dec.append(result)\n",
    "    last_result: Decimal = time_dec - sum(time_list_dec)\n",
    "    time_list_dec.append(last_result)\n"
   ]
  },
  {
   "cell_type": "code",
   "execution_count": null,
   "metadata": {},
   "outputs": [],
   "source": [
    "time_list_dec"
   ]
  },
  {
   "cell_type": "code",
   "execution_count": null,
   "metadata": {},
   "outputs": [],
   "source": [
    "(time_dec / size_dec).quantize(prec_dec_str, ROUND_HALF_DOWN)"
   ]
  },
  {
   "cell_type": "code",
   "execution_count": null,
   "metadata": {},
   "outputs": [],
   "source": [
    "(time_dec / size_dec).quantize(prec_dec_str, ROUND_HALF_UP)"
   ]
  },
  {
   "cell_type": "code",
   "execution_count": null,
   "metadata": {},
   "outputs": [],
   "source": [
    "(time_dec / size_dec).quantize(prec_dec_str, ROUND_DOWN)"
   ]
  },
  {
   "cell_type": "code",
   "execution_count": null,
   "metadata": {},
   "outputs": [],
   "source": [
    "(time_dec / size_dec).quantize(prec_dec_str, ROUND_UP)"
   ]
  },
  {
   "cell_type": "code",
   "execution_count": null,
   "metadata": {},
   "outputs": [],
   "source": [
    "def new_split_time(time: float, size: int, round_type: str) -> List[float]:\n",
    "    # 接触时间和数量转为十进制\n",
    "    time_dec: Decimal = Decimal(str(time))\n",
    "    size_dec: Decimal = Decimal(str(size))\n",
    "    time_list_dec: List[Decimal] = [] # 存放代表时长列表\n",
    "    # 判断接触时间的小数位数\n",
    "    if time == int(time):\n",
    "        time_prec: int = 0\n",
    "    else:\n",
    "        time_prec: int = int(time_dec.as_tuple().exponent)\n",
    "    # 确定基本平均值的小数位数\n",
    "    time_prec_dec_dict: Dict[int, Decimal] = {\n",
    "        0: Decimal('0'),\n",
    "        -1: Decimal('0.0'),\n",
    "        -2: Decimal('0.0')\n",
    "    }\n",
    "    prec_dec_str: Decimal = time_prec_dec_dict[time_prec]\n",
    "    # 如果接触时间不能让每个代表时长大于0.25，则不分开\n",
    "    if time_dec < Decimal('0.25') * size_dec:\n",
    "        time_list_dec.append(time_dec)\n",
    "    elif time_dec < Decimal('0.5') * size_dec:\n",
    "        front_time_list_dec: List[Decimal] = [\n",
    "            Decimal('0.25')] * (int(size) - 1)\n",
    "        last_time_dec: Decimal = time_dec - sum(front_time_list_dec)\n",
    "        time_list_dec.extend(front_time_list_dec)\n",
    "        time_list_dec.append(last_time_dec)\n",
    "    elif time_dec < Decimal('0.7') * size_dec:\n",
    "        front_time_list_dec: List[Decimal] = [\n",
    "            Decimal('0.5')] * (int(size) - 1)\n",
    "        last_time_dec: Decimal = time_dec - sum(front_time_list_dec)\n",
    "        time_list_dec.extend(front_time_list_dec)\n",
    "        time_list_dec.append(last_time_dec)\n",
    "    else:\n",
    "        judge_result: Decimal = time_dec / size_dec\n",
    "        for i in range(int(size) - 1):\n",
    "            result: Decimal = judge_result.quantize(prec_dec_str, round_type)\n",
    "            time_list_dec.append(result)\n",
    "        last_result: Decimal = time_dec - sum(time_list_dec)\n",
    "        time_list_dec.append(last_result)\n",
    "    # time_list: List[float] = sorted(list(map(float, time_list_dec)), reverse=False)\n",
    "    time_list: List[float] = list(map(float, time_list_dec))\n",
    "    return time_list"
   ]
  },
  {
   "cell_type": "code",
   "execution_count": null,
   "metadata": {},
   "outputs": [],
   "source": [
    "df1 = pd.DataFrame({\n",
    "    \"time\": np.arange(1, 1001) / 100,\n",
    "    \"size\": np.full(1000, 3)\n",
    "})\n",
    "\n",
    "df1.head()"
   ]
  },
  {
   "cell_type": "code",
   "execution_count": null,
   "metadata": {},
   "outputs": [],
   "source": [
    "df2 = pd.DataFrame({\n",
    "    \"time\": np.arange(1, 1001) / 100,\n",
    "    \"size\": np.full(1000, 2)\n",
    "})\n",
    "\n",
    "df2.head()"
   ]
  },
  {
   "cell_type": "code",
   "execution_count": null,
   "metadata": {},
   "outputs": [],
   "source": [
    "round_types: List[str] = [ROUND_HALF_DOWN, ROUND_HALF_UP, ROUND_DOWN, ROUND_UP]"
   ]
  },
  {
   "cell_type": "code",
   "execution_count": null,
   "metadata": {},
   "outputs": [],
   "source": [
    "with pd.ExcelWriter(os.path.join(os.path.expanduser(\"~/desktop\"), '采样时长划分测试.xlsx')) as excelfile:\n",
    "    for round_type in round_types:\n",
    "        # 复制\n",
    "        current_df1 = df1.copy()\n",
    "        current_df2 = df2.copy()\n",
    "        # 生成代表时长列\n",
    "        current_df1['timelist'] = current_df1.apply(lambda x: new_split_time(x['time'], x['size'], round_type), axis=1)\n",
    "        current_df2['timelist'] = current_df2.apply(lambda x: new_split_time(x['time'], x['size'], round_type), axis=1)\n",
    "        # 代表时长横向分开\n",
    "        temp1 = current_df1['timelist'].apply(pd.Series).add_prefix('time_')\n",
    "        temp1 = pd.DataFrame(current_df1['timelist'].to_list()).add_prefix(f\"{current_df1['timelist'].name}_\")\n",
    "        current_df1 = pd.concat([current_df1, temp1], axis=1)\n",
    "        temp2 = current_df2['timelist'].apply(pd.Series).add_prefix('time_')\n",
    "        temp2 = pd.DataFrame(current_df2['timelist'].to_list()).add_prefix(f\"{current_df2['timelist'].name}_\")\n",
    "        current_df2 = pd.concat([current_df2, temp2], axis=1)\n",
    "        # 不符合的值高亮\n",
    "        current_df1_style = current_df1.style.highlight_between(left=-100.0, right=0.25, subset=['timelist_0', 'timelist_1', 'timelist_2'])\n",
    "        current_df2_style = current_df2.style.highlight_between(left=-100.0, right=0.25, subset=['timelist_0', 'timelist_1'])\n",
    "        # 保存到excel文件里\n",
    "        # current_df1.to_excel(excelfile, sheet_name=f'数量3-{round_type}', index=False)\n",
    "        # current_df2.to_excel(excelfile, sheet_name=f'数量2-{round_type}', index=False)\n",
    "        current_df1_style.to_excel(excelfile, sheet_name=f'数量3-{round_type}', index=False)\n",
    "        current_df2_style.to_excel(excelfile, sheet_name=f'数量2-{round_type}', index=False)"
   ]
  },
  {
   "cell_type": "code",
   "execution_count": null,
   "metadata": {},
   "outputs": [],
   "source": [
    "from docx2pdf import convert"
   ]
  },
  {
   "cell_type": "code",
   "execution_count": null,
   "metadata": {},
   "outputs": [],
   "source": [
    "files_path = r'C:\\Users\\15210\\Desktop\\23ZXP0024记录表'"
   ]
  },
  {
   "cell_type": "code",
   "execution_count": null,
   "metadata": {},
   "outputs": [],
   "source": [
    "convert(files_path)"
   ]
  },
  {
   "cell_type": "code",
   "execution_count": null,
   "metadata": {},
   "outputs": [],
   "source": [
    "import pandas as pd\n",
    "from occupational_health_module.new_occupational_health import NewOccupationalHealthItemInfo"
   ]
  },
  {
   "cell_type": "code",
   "execution_count": null,
   "metadata": {},
   "outputs": [],
   "source": [
    "project_number: str = '24ZDQ0003-1'\n",
    "company_name: str = '福建青拓实业股份有限公司'"
   ]
  },
  {
   "cell_type": "code",
   "execution_count": null,
   "metadata": {},
   "outputs": [],
   "source": [
    "raw_df = pd.read_excel('templates/项目信息试验模板5.xlsx')\n",
    "\n",
    "raw_df.dtypes"
   ]
  },
  {
   "cell_type": "code",
   "execution_count": null,
   "metadata": {},
   "outputs": [],
   "source": [
    "new_project: NewOccupationalHealthItemInfo = NewOccupationalHealthItemInfo(\n",
    "    project_number,\n",
    "    company_name,\n",
    "    raw_df\n",
    ")\n"
   ]
  },
  {
   "cell_type": "code",
   "execution_count": null,
   "metadata": {},
   "outputs": [],
   "source": [
    "new_project.point_df.head()"
   ]
  },
  {
   "cell_type": "code",
   "execution_count": null,
   "metadata": {},
   "outputs": [],
   "source": [
    "new_project.templates_info_dict['有害物质定点']"
   ]
  },
  {
   "cell_type": "code",
   "execution_count": null,
   "metadata": {},
   "outputs": [],
   "source": []
  }
 ],
 "metadata": {
  "kernelspec": {
   "display_name": "Python 3.8.9 64-bit",
   "language": "python",
   "name": "python3"
  },
  "language_info": {
   "codemirror_mode": {
    "name": "ipython",
    "version": 3
   },
   "file_extension": ".py",
   "mimetype": "text/x-python",
   "name": "python",
   "nbconvert_exporter": "python",
   "pygments_lexer": "ipython3",
   "version": "3.11.6"
  },
  "orig_nbformat": 4,
  "vscode": {
   "interpreter": {
    "hash": "e0144baad0ecee903f108a3e46e51ceadd7da3fc904cfa79747d813b61464b4e"
   }
  }
 },
 "nbformat": 4,
 "nbformat_minor": 2
}
