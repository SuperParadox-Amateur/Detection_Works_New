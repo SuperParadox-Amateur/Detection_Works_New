{
 "cells": [
  {
   "cell_type": "markdown",
   "metadata": {},
   "source": [
    "# 代码测试\n",
    "\n",
    "## 按照汉字拼音排序\n"
   ]
  },
  {
   "cell_type": "code",
   "execution_count": null,
   "metadata": {},
   "outputs": [],
   "source": [
    "import locale\n",
    "from functools import cmp_to_key\n",
    "import pandas as pd"
   ]
  },
  {
   "cell_type": "code",
   "execution_count": null,
   "metadata": {},
   "outputs": [],
   "source": [
    "locale.setlocale(locale.LC_COLLATE, 'zh_CN.utf8')"
   ]
  },
  {
   "cell_type": "code",
   "execution_count": null,
   "metadata": {},
   "outputs": [],
   "source": [
    "str_list = ['硫', '氨', '氯', '碳', '氧', '氯化氢']\n",
    "str_list"
   ]
  },
  {
   "cell_type": "code",
   "execution_count": null,
   "metadata": {},
   "outputs": [],
   "source": [
    "a = sorted(str_list, key=cmp_to_key(locale.strcoll))\n",
    "a"
   ]
  },
  {
   "cell_type": "code",
   "execution_count": null,
   "metadata": {},
   "outputs": [],
   "source": [
    "sorted(str_list, key=lambda x: x.encode('gbk'))"
   ]
  },
  {
   "cell_type": "code",
   "execution_count": null,
   "metadata": {},
   "outputs": [],
   "source": [
    "df = pd.DataFrame(str_list, columns=['str'])\n",
    "df['num'] = list(range(0, len(str_list)))"
   ]
  },
  {
   "cell_type": "code",
   "execution_count": null,
   "metadata": {},
   "outputs": [],
   "source": [
    "df.sort_values(by='str', key=lambda x: x.str.encode('gbk'), ignore_index=True) # type: ignore"
   ]
  },
  {
   "cell_type": "markdown",
   "metadata": {},
   "source": [
    "## 向一个excel文件循环写入数据\n"
   ]
  },
  {
   "cell_type": "code",
   "execution_count": null,
   "metadata": {},
   "outputs": [],
   "source": [
    "import pandas as pd"
   ]
  },
  {
   "cell_type": "code",
   "execution_count": null,
   "metadata": {},
   "outputs": [],
   "source": [
    "with pd.ExcelWriter('test.xlsx') as writer:\n",
    "    for i in range(1, 4):\n",
    "        df = pd.DataFrame(data=[i], columns=['num'])\n",
    "        df.to_excel(writer, sheet_name=f'sheet{i}', index=False) # type: ignore"
   ]
  },
  {
   "cell_type": "markdown",
   "metadata": {},
   "source": [
    "## 动态变量名\n",
    "\n",
    "### `globals`方法\n",
    "\n",
    "```python\n",
    "for x in range(0, 7):\n",
    "    globals()[f\"variable{x}\"] = f\"Hello the variable number {x}!\"\n",
    "\n",
    "print(variable5)\n",
    "```"
   ]
  },
  {
   "cell_type": "markdown",
   "metadata": {},
   "source": [
    "### `locals()`方法\n",
    "\n",
    "```python\n",
    "for x in range(0, 7):\n",
    "    locals()[f\"variable{x}\"] = f\"Hello the variable number {x}!\"\n",
    "\n",
    "print(variable5)\n",
    "```"
   ]
  },
  {
   "cell_type": "markdown",
   "metadata": {},
   "source": [
    "### 新`locals()`方法\n"
   ]
  },
  {
   "cell_type": "code",
   "execution_count": null,
   "metadata": {},
   "outputs": [],
   "source": [
    "# 定义变量名的规律\n",
    "variable_name_pattern = \"variable_{}\"\n",
    "\n",
    "# 定义生成变量的数量\n",
    "num_variables = 5\n",
    "\n",
    "# 循环生成变量名\n",
    "for i in range(num_variables):\n",
    "  variable_name = variable_name_pattern.format(i+1)\n",
    "  # 将生成的变量名用于给变量赋值\n",
    "  locals()[variable_name] = i+10\n",
    "  print(variable_name, locals()[variable_name])"
   ]
  },
  {
   "cell_type": "markdown",
   "metadata": {},
   "source": [
    "## 代表时长划分测试\n"
   ]
  },
  {
   "cell_type": "code",
   "execution_count": null,
   "metadata": {},
   "outputs": [],
   "source": [
    "import random"
   ]
  },
  {
   "cell_type": "code",
   "execution_count": null,
   "metadata": {},
   "outputs": [],
   "source": [
    "random_float =round( random.uniform(0, 10), 2)\n",
    "print(random_float)"
   ]
  },
  {
   "cell_type": "code",
   "execution_count": null,
   "metadata": {},
   "outputs": [],
   "source": [
    "from decimal import Decimal, ROUND_DOWN\n",
    "\n",
    "def get_decimal_places(f):\n",
    "   # 将浮点数转换为Decimal对象\n",
    "   decimal_f = Decimal(str(f))\n",
    "\n",
    "   # 获取小数点的位置\n",
    "   decimal_places = -decimal_f.as_tuple().exponent # type: ignore\n",
    "\n",
    "   return decimal_places\n",
    "\n",
    "# 示例\n",
    "f = 0.60\n",
    "print(get_decimal_places(f))  # 输出：8"
   ]
  },
  {
   "cell_type": "markdown",
   "metadata": {},
   "source": [
    "## 采样工作脚本测试\n",
    "\n",
    "### 职业卫生\n",
    "\n",
    "#### 模板0测试\n"
   ]
  },
  {
   "cell_type": "code",
   "execution_count": null,
   "metadata": {},
   "outputs": [],
   "source": [
    "import io\n",
    "import os\n",
    "import os\n",
    "import math\n",
    "from copy import deepcopy\n",
    "from docx import Document\n",
    "import openpyxl\n",
    "import pandas as pd\n",
    "from nptyping import DataFrame\n",
    "# from pandas.api.types import CategoricalDtype\n",
    "from my_modules.occupational_health import OccupationalHealthItemInfo#, refresh_engaged_num\n",
    "# from my_modules.occupational_health import SingleDayOccupationalHealthItemInfo"
   ]
  },
  {
   "cell_type": "code",
   "execution_count": null,
   "metadata": {},
   "outputs": [],
   "source": [
    "company_name: str = 'MSCN'\n",
    "project_name: str = '23ZXP0000'\n",
    "\n",
    "file_path: str = r'./templates/项目信息试验模板.xlsx'\n",
    "point_info_df: DataFrame = pd.read_excel(file_path, sheet_name='定点') # type: ignore\n",
    "personnel_info_df: DataFrame = pd.read_excel(file_path, sheet_name='个体') # type: ignore"
   ]
  },
  {
   "cell_type": "code",
   "execution_count": null,
   "metadata": {},
   "outputs": [],
   "source": [
    "new_project = OccupationalHealthItemInfo(company_name, project_name, point_info_df, personnel_info_df)"
   ]
  },
  {
   "cell_type": "code",
   "execution_count": null,
   "metadata": {},
   "outputs": [],
   "source": [
    "new_project.personnel_info_df['检测因素'].isin(['噪声']).any()"
   ]
  },
  {
   "cell_type": "code",
   "execution_count": null,
   "metadata": {},
   "outputs": [],
   "source": [
    "new_project.write_dfs_to_folder()"
   ]
  },
  {
   "cell_type": "markdown",
   "metadata": {},
   "source": [
    "#### 模板1测试\n"
   ]
  },
  {
   "cell_type": "code",
   "execution_count": null,
   "metadata": {},
   "outputs": [],
   "source": [
    "company_name: str = 'MSCN'\n",
    "project_name: str = '23ZXP0001'\n",
    "\n",
    "file_path: str = r'./templates/项目信息试验模板1.xlsx'\n",
    "point_info_df: DataFrame = pd.read_excel(file_path, sheet_name='定点') # type: ignore\n",
    "personnel_info_df: DataFrame = pd.read_excel(file_path, sheet_name='个体') # type: ignore"
   ]
  },
  {
   "cell_type": "code",
   "execution_count": null,
   "metadata": {},
   "outputs": [],
   "source": [
    "project_1 = OccupationalHealthItemInfo(company_name, project_name, point_info_df, personnel_info_df)"
   ]
  },
  {
   "cell_type": "code",
   "execution_count": null,
   "metadata": {},
   "outputs": [],
   "source": [
    "project_1.write_dfs_to_folder()"
   ]
  },
  {
   "cell_type": "markdown",
   "metadata": {},
   "source": [
    "#### 模板2测试\n"
   ]
  },
  {
   "cell_type": "code",
   "execution_count": null,
   "metadata": {},
   "outputs": [],
   "source": [
    "company_name: str = 'MSCN'\n",
    "project_name: str = '23ZXP0002'\n",
    "\n",
    "file_path: str = r'./templates/项目信息试验模板2.xlsx'\n",
    "point_info_df: DataFrame = pd.read_excel(file_path, sheet_name='定点') # type: ignore\n",
    "personnel_info_df: DataFrame = pd.read_excel(file_path, sheet_name='个体') # type: ignore"
   ]
  },
  {
   "cell_type": "code",
   "execution_count": null,
   "metadata": {},
   "outputs": [],
   "source": [
    "project_2 = OccupationalHealthItemInfo(company_name, project_name, point_info_df, personnel_info_df)"
   ]
  },
  {
   "cell_type": "code",
   "execution_count": null,
   "metadata": {},
   "outputs": [],
   "source": [
    "project_2.write_dfs_to_folder()"
   ]
  },
  {
   "cell_type": "markdown",
   "metadata": {},
   "source": [
    "#### 模板3测试\n"
   ]
  },
  {
   "cell_type": "code",
   "execution_count": null,
   "metadata": {},
   "outputs": [],
   "source": [
    "company_name: str = 'MSCN'\n",
    "project_name: str = '23ZXP0003'\n",
    "\n",
    "file_path: str = r'./templates/项目信息试验模板3.xlsx'\n",
    "point_info_df: DataFrame = pd.read_excel(file_path, sheet_name='定点') # type: ignore\n",
    "personnel_info_df: DataFrame = pd.read_excel(file_path, sheet_name='个体') # type: ignore"
   ]
  },
  {
   "cell_type": "code",
   "execution_count": null,
   "metadata": {},
   "outputs": [],
   "source": [
    "project_3 = OccupationalHealthItemInfo(company_name, project_name, point_info_df, personnel_info_df)"
   ]
  },
  {
   "cell_type": "code",
   "execution_count": null,
   "metadata": {},
   "outputs": [],
   "source": [
    "project_3.write_dfs_to_folder()"
   ]
  },
  {
   "cell_type": "markdown",
   "metadata": {},
   "source": [
    "### 记录表模板写入测试\n",
    "\n",
    "#### 定点\n"
   ]
  },
  {
   "cell_type": "code",
   "execution_count": null,
   "metadata": {},
   "outputs": [],
   "source": [
    "import math\n",
    "import os\n",
    "import re\n",
    "from copy import deepcopy\n",
    "import pandas as pd\n",
    "from docx import Document\n",
    "from docx.enum.text import WD_PARAGRAPH_ALIGNMENT\n",
    "from docx.shared import Pt"
   ]
  },
  {
   "cell_type": "code",
   "execution_count": null,
   "metadata": {},
   "outputs": [],
   "source": [
    "file0_path: str = f'{os.path.expanduser(\"~/Desktop\")}/test0.xlsx'"
   ]
  },
  {
   "cell_type": "code",
   "execution_count": null,
   "metadata": {},
   "outputs": [],
   "source": [
    "point_df1 = pd.read_excel(file0_path, sheet_name='个体D1')\n",
    "\n",
    "point_df1.head()"
   ]
  },
  {
   "cell_type": "code",
   "execution_count": null,
   "metadata": {},
   "outputs": [],
   "source": [
    "items = point_df1['检测因素'].drop_duplicates().tolist()\n",
    "\n",
    "items"
   ]
  },
  {
   "cell_type": "code",
   "execution_count": null,
   "metadata": {},
   "outputs": [],
   "source": [
    "for item in items:\n",
    "    # 导入定点模板\n",
    "    point_module_path: str = r'./templates/有害物质定点采样记录.docx'\n",
    "    point_document = Document(point_module_path)\n",
    "\n",
    "    # 获得当前检测因素的dataframe\n",
    "    current_factor_df = point_df1[point_df1['检测因素'] == item].reset_index(drop=True)\n",
    "    # 计算需要的记录表页数\n",
    "    table_pages: int = math.ceil((len(current_factor_df) - 42) / 24 + 2)\n",
    "    # 按照页数来增减表格数量\n",
    "    if table_pages == 1:\n",
    "        rm_table = point_document.tables[2]\n",
    "        t = rm_table._element\n",
    "        t.getparent().remove(t)\n",
    "        rm_page_break = point_document.paragraphs[-2]\n",
    "        pg = rm_page_break._element\n",
    "        pg.getparent().remove(pg)\n",
    "        rm_page_break2 = point_document.paragraphs[-2]\n",
    "        pg2 = rm_page_break2._element\n",
    "        pg2.getparent().remove(pg2)\n",
    "    elif table_pages == 2:\n",
    "        pass\n",
    "        # rm_page_break = point_document.paragraphs[-2]\n",
    "        # pg = rm_page_break._element\n",
    "        # pg.getparent().remove(pg)\n",
    "    else:\n",
    "        for _ in range(table_pages - 2):\n",
    "            cp_table = point_document.tables[2]\n",
    "            new_table = deepcopy(cp_table)\n",
    "            # new_paragraph = point_document.add_paragraph()\n",
    "            new_paragraph = point_document.add_page_break()\n",
    "            new_paragraph._p.addnext(new_table._element)\n",
    "    \n",
    "            # paragraph = point_document.add_paragraph()\n",
    "            # paragraph._p.addnext(new_table._element)\n",
    "            # point_document.add_page_break()\n",
    "            point_document.add_paragraph()\n",
    "    \n",
    "        rm_page_break = point_document.paragraphs[4]\n",
    "        pg = rm_page_break._element\n",
    "        pg.getparent().remove(pg)\n",
    "        rm_page_break2 = point_document.paragraphs[2]\n",
    "        pg2 = rm_page_break2._element\n",
    "        pg2.getparent().remove(pg2)\n",
    "    \n",
    "    tables = point_document.tables\n",
    "    for table_page in range(table_pages):\n",
    "        if table_page == 0:\n",
    "            index_first: int = 0\n",
    "            index_last: int = 17\n",
    "        else:\n",
    "            index_first: int = 24 * table_page - 6\n",
    "            index_last: int = 24 * table_page + 17\n",
    "        current_df = current_factor_df.query(f'index >= {index_first} and index <= {index_last}').reset_index(drop=True)\n",
    "        # 向指定表格填写数据\n",
    "        current_table = tables[table_page + 1]\n",
    "        for r_i in range(current_df.shape[0]):\n",
    "            current_row_list = [\n",
    "                current_df.loc[r_i, '采样点编号'],\n",
    "                f\"{current_df.loc[r_i, '单元']}\\n{current_df.loc[r_i, '检测地点']}\",\n",
    "                current_df.loc[r_i, '样品编号'],\n",
    "            ]\n",
    "            for c_i in range(3):\n",
    "                current_cell = current_table.rows[r_i + 2].cells[c_i]\n",
    "                current_cell.text = str(current_row_list[c_i])\n",
    "    \n",
    "                if c_i <=1:\n",
    "                    current_cell.paragraphs[0].paragraph_format.alignment = WD_PARAGRAPH_ALIGNMENT.CENTER # type: ignore\n",
    "                else:\n",
    "                    current_cell.paragraphs[0].runs[0].font.size = Pt(6.5)\n",
    "    info_table = tables[0]\n",
    "    code_cell = info_table.rows[0].cells[1]\n",
    "    comp_cell = info_table.rows[0].cells[4]\n",
    "    item_cell = info_table.rows[3].cells[1]\n",
    "    code_cell.text = '23ZDQ0000'\n",
    "    comp_cell.text = 'MSCN'\n",
    "    # code_cell.text = new_project.project_number\n",
    "    # comp_cell.text = new_project.company_name\n",
    "    item_cell.text = item\n",
    "\n",
    "    for cell in [code_cell, comp_cell, item_cell]:\n",
    "        p = cell.paragraphs[0]\n",
    "        p.paragraph_format.alignment = WD_PARAGRAPH_ALIGNMENT.CENTER # type: ignore\n",
    "        p.runs[0].font.size = Pt(9)\n",
    "\n",
    "\n",
    "    file_name = f'23ZDQ0000--D1--{item}'\n",
    "    safe_file_name: str = re.sub(r'[?*/\\<>:\"|]', ',', file_name)\n",
    "    point_document.save(f'{os.path.expanduser(\"~/Desktop\")}/test1/{safe_file_name}.docx')"
   ]
  },
  {
   "cell_type": "code",
   "execution_count": null,
   "metadata": {},
   "outputs": [],
   "source": [
    "current_factor_df = point_df1[point_df1['检测因素'] == '苯|甲苯|二甲苯（全部异构体）'].reset_index(drop=True)\n",
    "\n",
    "current_factor_df.head()"
   ]
  },
  {
   "cell_type": "code",
   "execution_count": null,
   "metadata": {},
   "outputs": [],
   "source": [
    "current_row_list = [\n",
    "    current_factor_df.loc[0, '采样点编号'],\n",
    "    f\"{current_factor_df.loc[0, '单元']}\\n{current_factor_df.loc[0, '检测地点']}\",\n",
    "    current_factor_df.loc[0, '样品编号']\n",
    "]\n",
    "\n",
    "current_row_list"
   ]
  },
  {
   "cell_type": "code",
   "execution_count": null,
   "metadata": {},
   "outputs": [],
   "source": [
    "table_pages: int = math.ceil((len(current_factor_df) - 42) / 24 + 2)\n",
    "\n",
    "table_pages"
   ]
  },
  {
   "cell_type": "code",
   "execution_count": null,
   "metadata": {},
   "outputs": [],
   "source": [
    "# table_pages = 2"
   ]
  },
  {
   "cell_type": "code",
   "execution_count": null,
   "metadata": {},
   "outputs": [],
   "source": [
    "point_module_path: str = r'./templates/有害物质定点采样记录.docx'\n",
    "point_document = Document(point_module_path)"
   ]
  },
  {
   "cell_type": "code",
   "execution_count": null,
   "metadata": {},
   "outputs": [],
   "source": [
    "if table_pages == 1:\n",
    "    rm_table = point_document.tables[2]\n",
    "    t = rm_table._element\n",
    "    t.getparent().remove(t)\n",
    "    rm_page_break = point_document.paragraphs[-2]\n",
    "    pg = rm_page_break._element\n",
    "    pg.getparent().remove(pg)\n",
    "    rm_page_break2 = point_document.paragraphs[-2]\n",
    "    pg2 = rm_page_break2._element\n",
    "    pg2.getparent().remove(pg2)\n",
    "elif table_pages == 2:\n",
    "    pass\n",
    "    # rm_page_break = point_document.paragraphs[-2]\n",
    "    # pg = rm_page_break._element\n",
    "    # pg.getparent().remove(pg)\n",
    "else:\n",
    "    for _ in range(table_pages - 2):\n",
    "        cp_table = point_document.tables[2]\n",
    "        new_table = deepcopy(cp_table)\n",
    "        # new_paragraph = point_document.add_paragraph()\n",
    "        new_paragraph = point_document.add_page_break()\n",
    "        new_paragraph._p.addnext(new_table._element)\n",
    "\n",
    "        # paragraph = point_document.add_paragraph()\n",
    "        # paragraph._p.addnext(new_table._element)\n",
    "        # point_document.add_page_break()\n",
    "        point_document.add_paragraph()\n",
    "\n",
    "    rm_page_break = point_document.paragraphs[4]\n",
    "    pg = rm_page_break._element\n",
    "    pg.getparent().remove(pg)\n",
    "    rm_page_break2 = point_document.paragraphs[2]\n",
    "    pg2 = rm_page_break2._element\n",
    "    pg2.getparent().remove(pg2)\n"
   ]
  },
  {
   "cell_type": "code",
   "execution_count": null,
   "metadata": {},
   "outputs": [],
   "source": [
    "tables = point_document.tables"
   ]
  },
  {
   "cell_type": "code",
   "execution_count": null,
   "metadata": {},
   "outputs": [],
   "source": [
    "for table_page in range(table_pages):\n",
    "    if table_page == 0:\n",
    "        index_first: int = 0\n",
    "        index_last: int = 17\n",
    "    else:\n",
    "        index_first: int = 24 * table_page - 6\n",
    "        index_last: int = 24 * table_page + 17\n",
    "    current_df = current_factor_df.query(f'index >= {index_first} and index <= {index_last}').reset_index(drop=True)\n",
    "    # 向指定表格填写数据\n",
    "    current_table = tables[table_page + 1]\n",
    "    for r_i in range(len(current_df)):\n",
    "        current_row_list = [\n",
    "            current_factor_df.loc[r_i, '采样点编号'],\n",
    "            f\"{current_factor_df.loc[r_i, '单元']}\\n{current_factor_df.loc[0, '检测地点']}\",\n",
    "            current_factor_df.loc[r_i, '样品编号'],\n",
    "        ]\n",
    "        for c_i in range(3):\n",
    "            current_cell = current_table.rows[r_i + 2].cells[c_i]\n",
    "            current_cell.text = str(current_row_list[c_i])\n",
    "\n",
    "            if c_i <=1:\n",
    "                current_cell.paragraphs[0].paragraph_format.alignment = WD_PARAGRAPH_ALIGNMENT.CENTER # type: ignore\n",
    "            else:\n",
    "                current_cell.paragraphs[0].runs[0].font.size = Pt(6.5)"
   ]
  },
  {
   "cell_type": "code",
   "execution_count": null,
   "metadata": {},
   "outputs": [],
   "source": [
    "point_document.save(f'{os.path.expanduser(\"~/Desktop\")}/test1.docx')"
   ]
  },
  {
   "cell_type": "markdown",
   "metadata": {},
   "source": [
    "#### 个体"
   ]
  },
  {
   "cell_type": "code",
   "execution_count": null,
   "metadata": {},
   "outputs": [],
   "source": [
    "import math\n",
    "import os\n",
    "import re\n",
    "from copy import deepcopy\n",
    "import pandas as pd\n",
    "from docx import Document\n",
    "from docx.enum.text import WD_PARAGRAPH_ALIGNMENT\n",
    "from docx.shared import Pt"
   ]
  },
  {
   "cell_type": "code",
   "execution_count": null,
   "metadata": {},
   "outputs": [],
   "source": [
    "personnel_template_path: str = r'C:\\Users\\15210\\Documents\\Detection_Works_New\\templates\\有害物质个体采样记录.docx'\n",
    "\n",
    "personnel_file_path = f'{os.path.expanduser(\"~/Desktop\")}/test0.xlsx'"
   ]
  },
  {
   "cell_type": "code",
   "execution_count": null,
   "metadata": {},
   "outputs": [],
   "source": [
    "personnel_document = Document(personnel_template_path)"
   ]
  },
  {
   "cell_type": "code",
   "execution_count": null,
   "metadata": {},
   "outputs": [],
   "source": [
    "os.path.exists(personnel_template_path)"
   ]
  },
  {
   "cell_type": "code",
   "execution_count": null,
   "metadata": {},
   "outputs": [],
   "source": [
    "df = pd.read_excel(personnel_file_path, sheet_name='个体D1')\n",
    "\n",
    "df.head()"
   ]
  },
  {
   "cell_type": "code",
   "execution_count": null,
   "metadata": {},
   "outputs": [],
   "source": [
    "current_factor_df = df[df['检测因素'] == '矽尘（呼尘）']\n",
    "\n",
    "\n",
    "# 计算需要的记录表页数\n",
    "table_pages = math.ceil((len(current_factor_df) - 11) / 6 + 2)\n",
    "# table_pages = math.ceil((12 - 11) / 6 + 2)\n",
    "\n",
    "# table_pages = 4"
   ]
  },
  {
   "cell_type": "code",
   "execution_count": null,
   "metadata": {},
   "outputs": [],
   "source": [
    "if table_pages == 1:\n",
    "    rm_table = personnel_document.tables[2]\n",
    "    t = rm_table._element\n",
    "    t.getparent().remove(t)\n",
    "    rm_page_break = personnel_document.paragraphs[-2]\n",
    "    pg = rm_page_break._element\n",
    "    pg.getparent().remove(pg)\n",
    "    rm_page_break2 = personnel_document.paragraphs[-2]\n",
    "    pg2 = rm_page_break2._element\n",
    "    pg2.getparent().remove(pg2)\n",
    "elif table_pages == 2:\n",
    "    pass\n",
    "else:\n",
    "    for _ in range(table_pages - 2):\n",
    "        cp_table = personnel_document.tables[2]\n",
    "        new_table = deepcopy(cp_table)\n",
    "        # new_paragraph = point_document.add_paragraph()\n",
    "        new_paragraph = personnel_document.add_page_break()\n",
    "        new_paragraph._p.addnext(new_table._element)\n",
    "        # paragraph = point_document.add_paragraph()\n",
    "        # paragraph._p.addnext(new_table._element)\n",
    "        # point_document.add_page_break()\n",
    "        personnel_document.add_paragraph()\n",
    "\n",
    "tables = personnel_document.tables\n",
    "\n",
    "for table_page in range(table_pages):\n",
    "    if table_page == 0:\n",
    "        index_first = 0\n",
    "        index_last = 5\n",
    "    else:\n",
    "        index_first = 6 * table_page - 1\n",
    "        index_last = 6 * table_page + 5\n",
    "\n",
    "    current_df = current_factor_df.query(f'index >= {index_first} and index <= {index_last}').reset_index(drop=True)\n",
    "    current_table = tables[table_page + 1]\n",
    "    for r_i in range(current_df.shape[0]):\n",
    "        current_row_list = [\n",
    "            current_df.loc[r_i, '采样点编号'],\n",
    "            f\"{current_df.loc[r_i, '单元']}\\n{current_df.loc[r_i, '工种']}\",\n",
    "            f\"{current_df.loc[r_i, '个体编号']:0>4d}\",\n",
    "        ]\n",
    "        for c_i in range(3):\n",
    "            current_cell = current_table.rows[r_i * 3 + 2].cells[c_i]\n",
    "            current_cell.text = str(current_row_list[c_i])\n",
    "            if c_i <=1:\n",
    "                current_cell.paragraphs[0].paragraph_format.alignment = WD_PARAGRAPH_ALIGNMENT.CENTER # type: ignore\n",
    "            else:\n",
    "                current_cell.paragraphs[0].runs[0].font.size = Pt(6.5)\n",
    "\n",
    "# 写入基本信息\n",
    "info_table = tables[0]\n",
    "code_cell = info_table.rows[0].cells[1]\n",
    "comp_cell = info_table.rows[0].cells[4]\n",
    "item_cell = info_table.rows[3].cells[1]\n",
    "# code_cell.text = self.project_number\n",
    "# comp_cell.text = self.company_name\n",
    "item_cell.text = item\n",
    "# 基本信息的样式\n",
    "# TODO 考虑增加更改字体样式\n",
    "for cell in [code_cell, comp_cell, item_cell]:\n",
    "    p = cell.paragraphs[0]\n",
    "    p.paragraph_format.alignment = WD_PARAGRAPH_ALIGNMENT.CENTER # type: ignore\n",
    "    p.runs[0].font.size = Pt(9)\n"
   ]
  },
  {
   "cell_type": "code",
   "execution_count": null,
   "metadata": {},
   "outputs": [],
   "source": [
    "personnel_document.save(f'{os.path.expanduser(\"~/Desktop\")}/p.docx')"
   ]
  },
  {
   "cell_type": "markdown",
   "metadata": {},
   "source": [
    "#### 流转单\n"
   ]
  }
 ],
 "metadata": {
  "kernelspec": {
   "display_name": "Python 3.8.9 64-bit",
   "language": "python",
   "name": "python3"
  },
  "language_info": {
   "codemirror_mode": {
    "name": "ipython",
    "version": 3
   },
   "file_extension": ".py",
   "mimetype": "text/x-python",
   "name": "python",
   "nbconvert_exporter": "python",
   "pygments_lexer": "ipython3",
   "version": "3.11.3"
  },
  "orig_nbformat": 4,
  "vscode": {
   "interpreter": {
    "hash": "e0144baad0ecee903f108a3e46e51ceadd7da3fc904cfa79747d813b61464b4e"
   }
  }
 },
 "nbformat": 4,
 "nbformat_minor": 2
}
