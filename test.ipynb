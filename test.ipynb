{
 "cells": [
  {
   "cell_type": "markdown",
   "metadata": {},
   "source": [
    "# 代码测试\n",
    "\n",
    "## 按照汉字拼音排序\n"
   ]
  },
  {
   "cell_type": "code",
   "execution_count": null,
   "metadata": {},
   "outputs": [],
   "source": [
    "import locale\n",
    "from functools import cmp_to_key\n",
    "import pandas as pd"
   ]
  },
  {
   "cell_type": "code",
   "execution_count": null,
   "metadata": {},
   "outputs": [],
   "source": [
    "locale.setlocale(locale.LC_COLLATE, 'zh_CN.utf8')"
   ]
  },
  {
   "cell_type": "code",
   "execution_count": null,
   "metadata": {},
   "outputs": [],
   "source": [
    "str_list: list[str] = ['硫', '氨', '氯', '碳', '氧', '氯化氢']\n",
    "str_list"
   ]
  },
  {
   "cell_type": "code",
   "execution_count": null,
   "metadata": {},
   "outputs": [],
   "source": [
    "a = sorted(str_list, key=cmp_to_key(locale.strcoll))\n",
    "a"
   ]
  },
  {
   "cell_type": "code",
   "execution_count": null,
   "metadata": {},
   "outputs": [],
   "source": [
    "sorted(str_list, key=lambda x: x.encode('gbk'))"
   ]
  },
  {
   "cell_type": "code",
   "execution_count": null,
   "metadata": {},
   "outputs": [],
   "source": [
    "df = pd.DataFrame(str_list, columns=['str'])\n",
    "df['num'] = list(range(0, len(str_list)))"
   ]
  },
  {
   "cell_type": "code",
   "execution_count": null,
   "metadata": {},
   "outputs": [],
   "source": [
    "df.sort_values(by='str', key=lambda x: x.str.encode('gbk'), ignore_index=True) # type: ignore"
   ]
  },
  {
   "cell_type": "markdown",
   "metadata": {},
   "source": [
    "## 向一个excel文件循环写入数据\n"
   ]
  },
  {
   "cell_type": "code",
   "execution_count": null,
   "metadata": {},
   "outputs": [],
   "source": [
    "import pandas as pd"
   ]
  },
  {
   "cell_type": "code",
   "execution_count": null,
   "metadata": {},
   "outputs": [],
   "source": [
    "with pd.ExcelWriter('test.xlsx') as writer:\n",
    "    for i in range(1, 4):\n",
    "        df = pd.DataFrame(data=[i], columns=['num'])\n",
    "        df.to_excel(writer, sheet_name=f'sheet{i}', index=False) # type: ignore"
   ]
  },
  {
   "cell_type": "markdown",
   "metadata": {},
   "source": [
    "## 采样工作脚本测试\n",
    "\n",
    "### 职业卫生\n"
   ]
  },
  {
   "cell_type": "code",
   "execution_count": null,
   "metadata": {},
   "outputs": [],
   "source": [
    "import pandas as pd\n",
    "from nptyping import DataFrame\n",
    "from my_modules.occupational_health import OccupationalHealthItemInfo\n",
    "from my_modules.occupational_health import SingleDayOccupationalHealthItemInfo"
   ]
  },
  {
   "cell_type": "code",
   "execution_count": null,
   "metadata": {},
   "outputs": [],
   "source": [
    "company_name: str = 'MSCN'\n",
    "project_name: str = '23ZXP0000'\n",
    "# working_days: float = 5.0\n",
    "\n",
    "file_path: str = r'./templates/项目信息试验模板.xlsx'\n",
    "point_info_df: DataFrame = pd.read_excel(file_path, sheet_name='定点') # type: ignore\n",
    "personnel_info_df: DataFrame = pd.read_excel(file_path, sheet_name='个体') # type: ignore"
   ]
  },
  {
   "cell_type": "code",
   "execution_count": null,
   "metadata": {},
   "outputs": [],
   "source": [
    "new_project = OccupationalHealthItemInfo(company_name, project_name, point_info_df, personnel_info_df)"
   ]
  },
  {
   "cell_type": "code",
   "execution_count": null,
   "metadata": {},
   "outputs": [],
   "source": [
    "new_project.point_info_df.head()"
   ]
  },
  {
   "cell_type": "code",
   "execution_count": null,
   "metadata": {},
   "outputs": [],
   "source": [
    "new_project.personnel_info_df.head()"
   ]
  },
  {
   "cell_type": "code",
   "execution_count": null,
   "metadata": {},
   "outputs": [],
   "source": [
    "query_str = f'采样日程 == 1'\n",
    "new_project.point_info_df.query(query_str).head()"
   ]
  },
  {
   "cell_type": "code",
   "execution_count": null,
   "metadata": {},
   "outputs": [],
   "source": [
    "new_project_d1 = SingleDayOccupationalHealthItemInfo(company_name, project_name, new_project.point_info_df, new_project.personnel_info_df, 1, 0)\n"
   ]
  },
  {
   "cell_type": "code",
   "execution_count": null,
   "metadata": {},
   "outputs": [],
   "source": [
    "new_project_d1.current_point_info_df"
   ]
  },
  {
   "cell_type": "code",
   "execution_count": null,
   "metadata": {},
   "outputs": [],
   "source": [
    "class MyClass:\n",
    "    def __init__(self, value: int):\n",
    "        self.value = value\n",
    "        self.value *= 4\n",
    "    \n",
    "    def double(self):\n",
    "        self.value *= 2\n",
    "        return self.value\n",
    "\n",
    "my_instance = MyClass(10)\n",
    "print(my_instance.value)  # 输出：20"
   ]
  },
  {
   "cell_type": "code",
   "execution_count": null,
   "metadata": {},
   "outputs": [],
   "source": [
    "my_instance.double()"
   ]
  },
  {
   "cell_type": "code",
   "execution_count": null,
   "metadata": {},
   "outputs": [],
   "source": []
  }
 ],
 "metadata": {
  "kernelspec": {
   "display_name": "Python 3",
   "language": "python",
   "name": "python3"
  },
  "language_info": {
   "codemirror_mode": {
    "name": "ipython",
    "version": 3
   },
   "file_extension": ".py",
   "mimetype": "text/x-python",
   "name": "python",
   "nbconvert_exporter": "python",
   "pygments_lexer": "ipython3",
   "version": "3.10.8"
  },
  "orig_nbformat": 4
 },
 "nbformat": 4,
 "nbformat_minor": 2
}
