{
 "cells": [
  {
   "cell_type": "markdown",
   "metadata": {},
   "source": [
    "# 代码测试\n",
    "\n",
    "## 按照汉字拼音排序\n"
   ]
  },
  {
   "cell_type": "code",
   "execution_count": null,
   "metadata": {},
   "outputs": [],
   "source": [
    "import locale\n",
    "from functools import cmp_to_key\n",
    "import pandas as pd"
   ]
  },
  {
   "cell_type": "code",
   "execution_count": null,
   "metadata": {},
   "outputs": [],
   "source": [
    "locale.setlocale(locale.LC_COLLATE, 'zh_CN.utf8')"
   ]
  },
  {
   "cell_type": "code",
   "execution_count": null,
   "metadata": {},
   "outputs": [],
   "source": [
    "str_list: list[str] = ['硫', '氨', '氯', '碳', '氧', '氯化氢']\n",
    "str_list"
   ]
  },
  {
   "cell_type": "code",
   "execution_count": null,
   "metadata": {},
   "outputs": [],
   "source": [
    "a = sorted(str_list, key=cmp_to_key(locale.strcoll))\n",
    "a"
   ]
  },
  {
   "cell_type": "code",
   "execution_count": null,
   "metadata": {},
   "outputs": [],
   "source": [
    "sorted(str_list, key=lambda x: x.encode('gbk'))"
   ]
  },
  {
   "cell_type": "code",
   "execution_count": null,
   "metadata": {},
   "outputs": [],
   "source": [
    "df = pd.DataFrame(str_list, columns=['str'])\n",
    "df['num'] = list(range(0, len(str_list)))"
   ]
  },
  {
   "cell_type": "code",
   "execution_count": null,
   "metadata": {},
   "outputs": [],
   "source": [
    "df.sort_values(by='str', key=lambda x: x.str.encode('gbk'), ignore_index=True) # type: ignore"
   ]
  },
  {
   "cell_type": "markdown",
   "metadata": {},
   "source": [
    "## 向一个excel文件循环写入数据\n"
   ]
  },
  {
   "cell_type": "code",
   "execution_count": null,
   "metadata": {},
   "outputs": [],
   "source": [
    "import pandas as pd"
   ]
  },
  {
   "cell_type": "code",
   "execution_count": null,
   "metadata": {},
   "outputs": [],
   "source": [
    "with pd.ExcelWriter('test.xlsx') as writer:\n",
    "    for i in range(1, 4):\n",
    "        df = pd.DataFrame(data=[i], columns=['num'])\n",
    "        df.to_excel(writer, sheet_name=f'sheet{i}', index=False) # type: ignore"
   ]
  },
  {
   "cell_type": "markdown",
   "metadata": {},
   "source": [
    "## 动态变量名\n",
    "\n",
    "### `globals`方法\n"
   ]
  },
  {
   "cell_type": "code",
   "execution_count": null,
   "metadata": {},
   "outputs": [],
   "source": [
    "for x in range(0, 7):\n",
    "    globals()[f\"variable{x}\"] = f\"Hello the variable number {x}!\"\n",
    "\n",
    "print(variable5)"
   ]
  },
  {
   "cell_type": "markdown",
   "metadata": {},
   "source": [
    "### `locals()`方法\n"
   ]
  },
  {
   "cell_type": "code",
   "execution_count": null,
   "metadata": {},
   "outputs": [],
   "source": [
    "for x in range(0, 7):\n",
    "    locals()[f\"variable{x}\"] = f\"Hello the variable number {x}!\"\n",
    "\n",
    "print(variable5)"
   ]
  },
  {
   "cell_type": "markdown",
   "metadata": {},
   "source": [
    "### 新`locals()`方法\n"
   ]
  },
  {
   "cell_type": "code",
   "execution_count": null,
   "metadata": {},
   "outputs": [],
   "source": [
    "# 定义变量名的规律\n",
    "variable_name_pattern = \"variable_{}\"\n",
    "\n",
    "# 定义生成变量的数量\n",
    "num_variables = 5\n",
    "\n",
    "# 循环生成变量名\n",
    "for i in range(num_variables):\n",
    "  variable_name = variable_name_pattern.format(i+1)\n",
    "  # 将生成的变量名用于给变量赋值\n",
    "  locals()[variable_name] = i+10\n",
    "  print(variable_name, locals()[variable_name])"
   ]
  },
  {
   "cell_type": "markdown",
   "metadata": {},
   "source": [
    "## 采样工作脚本测试\n",
    "\n",
    "### 职业卫生\n"
   ]
  },
  {
   "cell_type": "code",
   "execution_count": null,
   "metadata": {},
   "outputs": [],
   "source": [
    "import io\n",
    "import openpyxl\n",
    "import pandas as pd\n",
    "from nptyping import DataFrame\n",
    "# from pandas.api.types import CategoricalDtype\n",
    "from my_modules.occupational_health import OccupationalHealthItemInfo, refresh_engaged_num\n",
    "# from my_modules.occupational_health import SingleDayOccupationalHealthItemInfo"
   ]
  },
  {
   "cell_type": "code",
   "execution_count": null,
   "metadata": {},
   "outputs": [],
   "source": [
    "company_name: str = 'MSCN'\n",
    "project_name: str = '23ZXP0000'\n",
    "# working_days: float = 5.0\n",
    "\n",
    "file_path: str = r'./templates/项目信息试验模板.xlsx'\n",
    "point_info_df: DataFrame = pd.read_excel(file_path, sheet_name='定点') # type: ignore\n",
    "personnel_info_df: DataFrame = pd.read_excel(file_path, sheet_name='个体') # type: ignore"
   ]
  },
  {
   "cell_type": "code",
   "execution_count": null,
   "metadata": {},
   "outputs": [],
   "source": [
    "new_project = OccupationalHealthItemInfo(company_name, project_name, point_info_df, personnel_info_df)"
   ]
  },
  {
   "cell_type": "code",
   "execution_count": null,
   "metadata": {},
   "outputs": [],
   "source": [
    "new_project.point_info_df.head()"
   ]
  },
  {
   "cell_type": "code",
   "execution_count": null,
   "metadata": {},
   "outputs": [],
   "source": [
    "new_project.point_info_df.query('采样点编号 == 25')#.tail()  # type: ignore"
   ]
  },
  {
   "cell_type": "code",
   "execution_count": null,
   "metadata": {},
   "outputs": [],
   "source": [
    "new_project.personnel_info_df.head()"
   ]
  },
  {
   "cell_type": "code",
   "execution_count": null,
   "metadata": {},
   "outputs": [],
   "source": [
    "new_project.point_deleterious_substance_df.head()"
   ]
  },
  {
   "cell_type": "code",
   "execution_count": null,
   "metadata": {},
   "outputs": [],
   "source": [
    "new_project.personnel_deleterious_substance_df.head()"
   ]
  },
  {
   "cell_type": "code",
   "execution_count": null,
   "metadata": {},
   "outputs": [],
   "source": [
    "new_project.factor_reference_df.head()"
   ]
  },
  {
   "cell_type": "code",
   "execution_count": null,
   "metadata": {},
   "outputs": [],
   "source": [
    "new_project.get_single_day_blank_df(0, 1).head()"
   ]
  },
  {
   "cell_type": "code",
   "execution_count": null,
   "metadata": {},
   "outputs": [],
   "source": [
    "engaged_num = 0\n",
    "test_blank = new_project.get_single_day_blank_df(engaged_num, 1)\n",
    "engaged_num = refresh_engaged_num(test_blank, engaged_num)\n",
    "test_blank.head()"
   ]
  },
  {
   "cell_type": "code",
   "execution_count": null,
   "metadata": {},
   "outputs": [],
   "source": [
    "test_point = new_project.get_single_day_point_df(engaged_num, 1)\n",
    "engaged_num = refresh_engaged_num(test_point, engaged_num)\n",
    "test_point.head()"
   ]
  },
  {
   "cell_type": "code",
   "execution_count": null,
   "metadata": {},
   "outputs": [],
   "source": [
    "test_personnel = new_project.get_single_day_personnel_df(engaged_num, 1)\n",
    "engaged_num = refresh_engaged_num(test_personnel, engaged_num)\n",
    "test_personnel.head()"
   ]
  },
  {
   "cell_type": "code",
   "execution_count": null,
   "metadata": {},
   "outputs": [],
   "source": [
    "n_blank, n_point, n_personnel = new_project.trim_dfs(test_blank, test_point, test_personnel)\n",
    "n_blank.head()"
   ]
  },
  {
   "cell_type": "code",
   "execution_count": null,
   "metadata": {},
   "outputs": [],
   "source": [
    "n_point.head()"
   ]
  },
  {
   "cell_type": "code",
   "execution_count": null,
   "metadata": {},
   "outputs": [],
   "source": [
    "n_personnel.head()"
   ]
  },
  {
   "cell_type": "code",
   "execution_count": null,
   "metadata": {},
   "outputs": [],
   "source": [
    "p_point = pd.pivot_table(\n",
    "    n_point,\n",
    "    index=['检测因素', '空白编号'],\n",
    "    aggfunc={'起始编号': min, '终止编号': max}\n",
    ").reset_index()\n",
    "\n",
    "p_point.head()"
   ]
  },
  {
   "cell_type": "code",
   "execution_count": null,
   "metadata": {},
   "outputs": [],
   "source": [
    "p_personnel = pd.pivot_table(\n",
    "    n_personnel,\n",
    "    index='检测因素',\n",
    "    values='个体编号',\n",
    "    # aggfunc={'个体编号': min, '个体编号': max}\n",
    "    aggfunc=[min, max]\n",
    ").stack().reset_index().rename(columns={'min': '个体起始编号', 'max': '个体终止编号'})[['检测因素', '个体起始编号', '个体终止编号']]\n",
    "\n",
    "p_personnel.head()"
   ]
  },
  {
   "cell_type": "code",
   "execution_count": null,
   "metadata": {},
   "outputs": [],
   "source": [
    "pd.merge(p_point, p_personnel, on='检测因素', how='outer').fillna(0).set_index('检测因素').applymap(int)"
   ]
  },
  {
   "cell_type": "code",
   "execution_count": null,
   "metadata": {},
   "outputs": [],
   "source": [
    "file_io = new_project.get_dfs_num(['空白', '定点', '个体'])\n",
    "\n",
    "with open('C:/Users/15210/Desktop/test2.xlsx', 'wb') as f:\n",
    "  f.write(file_io.getvalue())"
   ]
  },
  {
   "cell_type": "markdown",
   "metadata": {},
   "source": [
    "#### 统计样品\n"
   ]
  },
  {
   "cell_type": "code",
   "execution_count": null,
   "metadata": {},
   "outputs": [],
   "source": [
    "engaged_num: int = 0\n",
    "types_order: list[str] = ['空白', '定点', '个体']\n",
    "# file_io: io.BytesIO = io.BytesIO()\n",
    "schedule_day: int = 1\n",
    "\n",
    "current_blank: DataFrame = new_project.get_single_day_blank_df(engaged_num, schedule_day)\n",
    "# current_blank.to_excel(excel_writer, sheet_name=f'空白D{schedule_day}', index=False)  # type: ignore\n",
    "engaged_num = refresh_engaged_num(current_blank, engaged_num)\n",
    "\n",
    "current_point: DataFrame = new_project.get_single_day_point_df(engaged_num, schedule_day)\n",
    "# current_point.to_excel(excel_writer, sheet_name=f'定点D{schedule_day}', index=False)  # type: ignore\n",
    "engaged_num = refresh_engaged_num(current_point, engaged_num)\n",
    "\n",
    "current_personnel: DataFrame = new_project.get_single_day_personnel_df(engaged_num, schedule_day)\n",
    "# current_personnel.to_excel(excel_writer, sheet_name=f'个体D{schedule_day}', index=False)  # type: ignore\n",
    "engaged_num = refresh_engaged_num(current_personnel, engaged_num)\n"
   ]
  },
  {
   "cell_type": "code",
   "execution_count": null,
   "metadata": {},
   "outputs": [],
   "source": [
    "current_blank"
   ]
  },
  {
   "cell_type": "code",
   "execution_count": null,
   "metadata": {},
   "outputs": [],
   "source": [
    "current_point.head()"
   ]
  },
  {
   "cell_type": "code",
   "execution_count": null,
   "metadata": {},
   "outputs": [],
   "source": [
    "current_point = current_point.drop(columns=['空白编号'])\n",
    "\n",
    "current_point.head()"
   ]
  },
  {
   "cell_type": "code",
   "execution_count": null,
   "metadata": {},
   "outputs": [],
   "source": [
    "df = pd.merge(\n",
    "    current_point,\n",
    "    current_blank,\n",
    "    on='标识检测因素',\n",
    "    how='left'\n",
    ")\n",
    "\n",
    "df.head()"
   ]
  },
  {
   "cell_type": "code",
   "execution_count": null,
   "metadata": {},
   "outputs": [],
   "source": [
    "def get_sample_list(df: DataFrame):\n",
    "    num_list = list(range(df['起始编号'], df['终止编号'] + 1))\n",
    "    num_list += [None] * (4 - len(num_list))\n",
    "    return num_list"
   ]
  },
  {
   "cell_type": "code",
   "execution_count": null,
   "metadata": {},
   "outputs": [],
   "source": [
    "current_point['样品编号'] = current_point.apply(get_sample_list, axis=1)\n",
    "\n",
    "current_point.head()"
   ]
  },
  {
   "cell_type": "markdown",
   "metadata": {},
   "source": [
    "#### 测试获得所有样品信息的编号，并写入bytesio文件里\n"
   ]
  },
  {
   "cell_type": "code",
   "execution_count": null,
   "metadata": {},
   "outputs": [],
   "source": [
    "engaged_num: int = 0\n",
    "types_order: list[str] = ['空白', '定点', '个体']\n",
    "file_io: io.BytesIO = io.BytesIO()\n",
    "\n",
    "with pd.ExcelWriter(file_io) as excel_writer:\n",
    "    for schedule_day in [1, 2, 3]:\n",
    "        for type in types_order:\n",
    "            if type == '空白':\n",
    "                current_blank: DataFrame = new_project.get_single_day_blank_df(engaged_num, schedule_day)\n",
    "                current_blank.to_excel(excel_writer, sheet_name=f'空白D{schedule_day}', index=False)  # type: ignore\n",
    "                engaged_num = refresh_engaged_num(current_blank, engaged_num)\n",
    "            elif type == '定点':\n",
    "                current_point: DataFrame = new_project.get_single_day_point_df(engaged_num, schedule_day)\n",
    "                current_point.to_excel(excel_writer, sheet_name=f'定点D{schedule_day}', index=False)  # type: ignore\n",
    "                engaged_num = refresh_engaged_num(current_point, engaged_num)\n",
    "            elif type == '个体':\n",
    "                current_personnel: DataFrame = new_project.get_single_day_personnel_df(engaged_num, schedule_day)\n",
    "                engaged_num = refresh_engaged_num(current_personnel, engaged_num)\n",
    "                current_personnel.to_excel(excel_writer, sheet_name=f'个体D{schedule_day}', index=False)  # type: ignore\n",
    "\n",
    "# with open(r'C:/Users/15210/Desktop/test.xlsx', 'wb') as f:\n",
    "#     file_bytes: bytes = file_io.getvalue()\n",
    "#     f.write(file_bytes)"
   ]
  },
  {
   "cell_type": "code",
   "execution_count": null,
   "metadata": {},
   "outputs": [],
   "source": [
    "workbook = openpyxl.load_workbook(file_io)\n",
    "sheet_names = workbook.sheetnames\n",
    "print(sheet_names)"
   ]
  },
  {
   "cell_type": "markdown",
   "metadata": {},
   "source": [
    "#### 获得定点和个体的空白样品\n"
   ]
  },
  {
   "cell_type": "code",
   "execution_count": null,
   "metadata": {},
   "outputs": [],
   "source": [
    "# test1_df = new_project.point_deleterious_substance_df#[['检测因素', '是否需要空白', '复合因素代码']]\n",
    "# test2_df = new_project.personnel_deleterious_substance_df#[['检测因素', '是否需要空白', '复合因素代码']]\n",
    "\n",
    "test1_df, test2_df = new_project.get_single_day_deleterious_substance_df(1)"
   ]
  },
  {
   "cell_type": "code",
   "execution_count": null,
   "metadata": {},
   "outputs": [],
   "source": [
    "test1_df['检测因素'] = test1_df['检测因素'].str.split('|')  # type: ignore\n",
    "ex_test1_df: DataFrame = test1_df.explode('检测因素')\n",
    "ex_test1_df.head()"
   ]
  },
  {
   "cell_type": "code",
   "execution_count": null,
   "metadata": {},
   "outputs": [],
   "source": [
    "test2_df['检测因素'] = test2_df['检测因素'].str.split('|')  # type: ignore\n",
    "ex_test2_df: DataFrame = test2_df.explode('检测因素')\n",
    "ex_test2_df.head()"
   ]
  },
  {
   "cell_type": "code",
   "execution_count": null,
   "metadata": {},
   "outputs": [],
   "source": [
    "test_df = pd.concat(  # type: ignore\n",
    "    [\n",
    "        ex_test1_df[['检测因素', '是否需要空白', '复合因素代码']],\n",
    "        ex_test2_df[['检测因素', '是否需要空白', '复合因素代码']]\n",
    "    ]\n",
    "    ).drop_duplicates('检测因素').reset_index(drop=True)\n",
    "\n",
    "test_df.head()"
   ]
  },
  {
   "cell_type": "code",
   "execution_count": null,
   "metadata": {},
   "outputs": [],
   "source": [
    "group1 = test_df.loc[test_df['复合因素代码'] == 0, ['检测因素', '是否需要空白']]\n",
    "group1.head()"
   ]
  },
  {
   "cell_type": "code",
   "execution_count": null,
   "metadata": {},
   "outputs": [],
   "source": [
    "raw_group2 = test_df.loc[test_df['复合因素代码'] != 0]\n",
    "raw_group2.head()"
   ]
  },
  {
   "cell_type": "code",
   "execution_count": null,
   "metadata": {},
   "outputs": [],
   "source": [
    "group2 = pd.DataFrame(raw_group2.groupby(['复合因素代码'])['检测因素'].apply('|'.join)).reset_index(drop=True)  # type: ignore\n",
    "group2['是否需要空白'] = True\n",
    "\n",
    "group2.head()"
   ]
  },
  {
   "cell_type": "code",
   "execution_count": null,
   "metadata": {},
   "outputs": [],
   "source": [
    "concat_group = pd.concat(\n",
    "    [group1, group2],\n",
    "    ignore_index=True,\n",
    "    axis=0,\n",
    "    # sort=True\n",
    ")\n",
    "\n",
    "concat_group.head()"
   ]
  },
  {
   "cell_type": "code",
   "execution_count": null,
   "metadata": {},
   "outputs": [],
   "source": [
    "from pandas.api.types import CategoricalDtype\n",
    "blank_factor_list = sorted(concat_group['检测因素'].tolist(), key=lambda x: x.encode('gbk'))\n",
    "blank_factor_order = CategoricalDtype(categories=blank_factor_list, ordered=True)\n",
    "\n",
    "blank_factor_order"
   ]
  },
  {
   "cell_type": "code",
   "execution_count": null,
   "metadata": {},
   "outputs": [],
   "source": [
    "concat_group['检测因素'] = concat_group['检测因素'].astype(blank_factor_order)\n",
    "concat_group = concat_group.loc[concat_group['是否需要空白'] == True].sort_values('检测因素', ignore_index=True)\n",
    "concat_group"
   ]
  },
  {
   "cell_type": "code",
   "execution_count": null,
   "metadata": {},
   "outputs": [],
   "source": [
    "concat_group['标识检测因素'] = concat_group['检测因素'].astype(str).map(lambda x: x.split('|'))\n",
    "concat_group['空白编号'] = list(range(1, concat_group.shape[0] + 1))# + engaged_num\n",
    "concat_group.explode('标识检测因素')"
   ]
  },
  {
   "cell_type": "code",
   "execution_count": null,
   "metadata": {},
   "outputs": [],
   "source": []
  }
 ],
 "metadata": {
  "kernelspec": {
   "display_name": "Python 3",
   "language": "python",
   "name": "python3"
  },
  "language_info": {
   "codemirror_mode": {
    "name": "ipython",
    "version": 3
   },
   "file_extension": ".py",
   "mimetype": "text/x-python",
   "name": "python",
   "nbconvert_exporter": "python",
   "pygments_lexer": "ipython3",
   "version": "3.11.3"
  },
  "orig_nbformat": 4
 },
 "nbformat": 4,
 "nbformat_minor": 2
}
