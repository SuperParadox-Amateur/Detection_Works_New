{
 "cells": [
  {
   "cell_type": "markdown",
   "metadata": {},
   "source": [
    "# 代码测试\n",
    "\n",
    "## 按照汉字拼音排序\n"
   ]
  },
  {
   "cell_type": "code",
   "execution_count": null,
   "metadata": {},
   "outputs": [],
   "source": [
    "import locale\n",
    "from functools import cmp_to_key\n",
    "import pandas as pd"
   ]
  },
  {
   "cell_type": "code",
   "execution_count": null,
   "metadata": {},
   "outputs": [],
   "source": [
    "locale.setlocale(locale.LC_COLLATE, 'zh_CN.utf8')"
   ]
  },
  {
   "cell_type": "code",
   "execution_count": null,
   "metadata": {},
   "outputs": [],
   "source": [
    "str_list = ['硫', '氨', '氯', '碳', '氧', '氯化氢']\n",
    "str_list"
   ]
  },
  {
   "cell_type": "code",
   "execution_count": null,
   "metadata": {},
   "outputs": [],
   "source": [
    "a = sorted(str_list, key=cmp_to_key(locale.strcoll))\n",
    "a"
   ]
  },
  {
   "cell_type": "code",
   "execution_count": null,
   "metadata": {},
   "outputs": [],
   "source": [
    "sorted(str_list, key=lambda x: x.encode('gbk'))"
   ]
  },
  {
   "cell_type": "code",
   "execution_count": null,
   "metadata": {},
   "outputs": [],
   "source": [
    "df = pd.DataFrame(str_list, columns=['str'])\n",
    "df['num'] = list(range(0, len(str_list)))"
   ]
  },
  {
   "cell_type": "code",
   "execution_count": null,
   "metadata": {},
   "outputs": [],
   "source": [
    "df.sort_values(by='str', key=lambda x: x.str.encode('gbk'), ignore_index=True) # type: ignore"
   ]
  },
  {
   "cell_type": "markdown",
   "metadata": {},
   "source": [
    "## 向一个excel文件循环写入数据\n"
   ]
  },
  {
   "cell_type": "code",
   "execution_count": null,
   "metadata": {},
   "outputs": [],
   "source": [
    "import pandas as pd"
   ]
  },
  {
   "cell_type": "code",
   "execution_count": null,
   "metadata": {},
   "outputs": [],
   "source": [
    "with pd.ExcelWriter('test.xlsx') as writer:\n",
    "    for i in range(1, 4):\n",
    "        df = pd.DataFrame(data=[i], columns=['num'])\n",
    "        df.to_excel(writer, sheet_name=f'sheet{i}', index=False) # type: ignore"
   ]
  },
  {
   "cell_type": "markdown",
   "metadata": {},
   "source": [
    "## 动态变量名\n",
    "\n",
    "### `globals`方法\n",
    "\n",
    "```python\n",
    "for x in range(0, 7):\n",
    "    globals()[f\"variable{x}\"] = f\"Hello the variable number {x}!\"\n",
    "\n",
    "print(variable5)\n",
    "```"
   ]
  },
  {
   "cell_type": "markdown",
   "metadata": {},
   "source": [
    "### `locals()`方法\n",
    "\n",
    "```python\n",
    "for x in range(0, 7):\n",
    "    locals()[f\"variable{x}\"] = f\"Hello the variable number {x}!\"\n",
    "\n",
    "print(variable5)\n",
    "```"
   ]
  },
  {
   "cell_type": "markdown",
   "metadata": {},
   "source": [
    "### 新`locals()`方法\n"
   ]
  },
  {
   "cell_type": "code",
   "execution_count": null,
   "metadata": {},
   "outputs": [],
   "source": [
    "# 定义变量名的规律\n",
    "variable_name_pattern = \"variable_{}\"\n",
    "\n",
    "# 定义生成变量的数量\n",
    "num_variables = 5\n",
    "\n",
    "# 循环生成变量名\n",
    "for i in range(num_variables):\n",
    "  variable_name = variable_name_pattern.format(i+1)\n",
    "  # 将生成的变量名用于给变量赋值\n",
    "  locals()[variable_name] = i + 10\n",
    "  print(variable_name, locals()[variable_name])"
   ]
  },
  {
   "cell_type": "markdown",
   "metadata": {},
   "source": [
    "## 代表时长划分测试\n"
   ]
  },
  {
   "cell_type": "code",
   "execution_count": null,
   "metadata": {},
   "outputs": [],
   "source": [
    "import random"
   ]
  },
  {
   "cell_type": "code",
   "execution_count": null,
   "metadata": {},
   "outputs": [],
   "source": [
    "random_float =round( random.uniform(0, 10), 2)\n",
    "print(random_float)"
   ]
  },
  {
   "cell_type": "code",
   "execution_count": null,
   "metadata": {},
   "outputs": [],
   "source": [
    "from decimal import Decimal, ROUND_DOWN\n",
    "\n",
    "def get_decimal_places(f):\n",
    "   # 将浮点数转换为Decimal对象\n",
    "   decimal_f = Decimal(str(f))\n",
    "\n",
    "   # 获取小数点的位置\n",
    "   decimal_places = -decimal_f.as_tuple().exponent # type: ignore\n",
    "\n",
    "   return decimal_places\n",
    "\n",
    "# 示例\n",
    "f = 0.60\n",
    "print(get_decimal_places(f))  # 输出：8"
   ]
  },
  {
   "cell_type": "markdown",
   "metadata": {},
   "source": [
    "## 采样工作脚本测试\n",
    "\n",
    "### 职业卫生\n",
    "\n",
    "#### 模板0测试\n"
   ]
  },
  {
   "cell_type": "code",
   "execution_count": null,
   "metadata": {},
   "outputs": [],
   "source": [
    "import io\n",
    "import os\n",
    "import os\n",
    "import math\n",
    "from copy import deepcopy\n",
    "from docx import Document\n",
    "import openpyxl\n",
    "import pandas as pd\n",
    "from nptyping import DataFrame\n",
    "# from pandas.api.types import CategoricalDtype\n",
    "from my_modules.occupational_health import OccupationalHealthItemInfo#, refresh_engaged_num\n",
    "from my_modules.other_infos import templates_info"
   ]
  },
  {
   "cell_type": "code",
   "execution_count": null,
   "metadata": {},
   "outputs": [],
   "source": [
    "company_name: str = 'MSCN'\n",
    "project_name: str = '23ZXP0000'\n",
    "\n",
    "file_path: str = r'./templates/项目信息试验模板.xlsx'\n",
    "point_info_df: DataFrame = pd.read_excel(file_path, sheet_name='定点') # type: ignore\n",
    "personnel_info_df: DataFrame = pd.read_excel(file_path, sheet_name='个体') # type: ignore"
   ]
  },
  {
   "cell_type": "code",
   "execution_count": null,
   "metadata": {},
   "outputs": [],
   "source": [
    "new_project = OccupationalHealthItemInfo(company_name, project_name, point_info_df, personnel_info_df, templates_info)"
   ]
  },
  {
   "cell_type": "code",
   "execution_count": null,
   "metadata": {},
   "outputs": [],
   "source": [
    "new_project.get_dfs_num(new_project.default_types_order)"
   ]
  },
  {
   "cell_type": "code",
   "execution_count": null,
   "metadata": {},
   "outputs": [],
   "source": [
    "new_project.project_number"
   ]
  },
  {
   "cell_type": "markdown",
   "metadata": {},
   "source": [
    "#### 模板1测试\n"
   ]
  },
  {
   "cell_type": "code",
   "execution_count": null,
   "metadata": {},
   "outputs": [],
   "source": [
    "company_name: str = 'MSCN'\n",
    "project_name: str = '23ZXP0001'\n",
    "\n",
    "file_path: str = r'./templates/项目信息试验模板1.xlsx'\n",
    "point_info_df: DataFrame = pd.read_excel(file_path, sheet_name='定点') # type: ignore\n",
    "personnel_info_df: DataFrame = pd.read_excel(file_path, sheet_name='个体') # type: ignore"
   ]
  },
  {
   "cell_type": "code",
   "execution_count": null,
   "metadata": {},
   "outputs": [],
   "source": [
    "project_1 = OccupationalHealthItemInfo(company_name, project_name, point_info_df, personnel_info_df, templates_info)"
   ]
  },
  {
   "cell_type": "code",
   "execution_count": null,
   "metadata": {},
   "outputs": [],
   "source": [
    "project_1.write_dfs_to_output_folder()"
   ]
  },
  {
   "cell_type": "markdown",
   "metadata": {},
   "source": [
    "#### 模板2测试\n"
   ]
  },
  {
   "cell_type": "code",
   "execution_count": null,
   "metadata": {},
   "outputs": [],
   "source": [
    "company_name: str = 'MSCN'\n",
    "project_name: str = '23ZXP0002'\n",
    "\n",
    "file_path: str = r'./templates/项目信息试验模板2.xlsx'\n",
    "point_info_df: DataFrame = pd.read_excel(file_path, sheet_name='定点') # type: ignore\n",
    "personnel_info_df: DataFrame = pd.read_excel(file_path, sheet_name='个体') # type: ignore"
   ]
  },
  {
   "cell_type": "code",
   "execution_count": null,
   "metadata": {},
   "outputs": [],
   "source": [
    "project_2 = OccupationalHealthItemInfo(company_name, project_name, point_info_df, personnel_info_df, templates_info)"
   ]
  },
  {
   "cell_type": "code",
   "execution_count": null,
   "metadata": {},
   "outputs": [],
   "source": [
    "project_2.write_dfs_to_output_folder()"
   ]
  },
  {
   "cell_type": "markdown",
   "metadata": {},
   "source": [
    "#### 模板3测试\n"
   ]
  },
  {
   "cell_type": "code",
   "execution_count": null,
   "metadata": {},
   "outputs": [],
   "source": [
    "company_name: str = 'MSCN'\n",
    "project_name: str = '23ZXP0003'\n",
    "\n",
    "file_path: str = r'./templates/项目信息试验模板3.xlsx'\n",
    "point_info_df: DataFrame = pd.read_excel(file_path, sheet_name='定点') # type: ignore\n",
    "personnel_info_df: DataFrame = pd.read_excel(file_path, sheet_name='个体') # type: ignore"
   ]
  },
  {
   "cell_type": "code",
   "execution_count": null,
   "metadata": {},
   "outputs": [],
   "source": [
    "project_3 = OccupationalHealthItemInfo(company_name, project_name, point_info_df, personnel_info_df, templates_info)"
   ]
  },
  {
   "cell_type": "code",
   "execution_count": null,
   "metadata": {},
   "outputs": [],
   "source": [
    "project_3.write_dfs_to_output_folder()"
   ]
  },
  {
   "cell_type": "markdown",
   "metadata": {},
   "source": [
    "### 记录表模板写入测试\n",
    "\n",
    "#### 定点\n"
   ]
  },
  {
   "cell_type": "code",
   "execution_count": null,
   "metadata": {},
   "outputs": [],
   "source": [
    "import os\n",
    "from copy import deepcopy\n",
    "from docx import Document"
   ]
  },
  {
   "cell_type": "code",
   "execution_count": null,
   "metadata": {},
   "outputs": [],
   "source": [
    "docx_pathes: list[str] = [\n",
    "    './templates/有害物质定点采样记录.docx',\n",
    "    './templates/有害物质个体采样记录.docx',\n",
    "    './templates/定点噪声.docx',\n",
    "    './templates/高温.docx',\n",
    "    './templates/个体噪声.docx',\n",
    "    './templates/一氧化碳.docx',\n",
    "]"
   ]
  },
  {
   "cell_type": "code",
   "execution_count": null,
   "metadata": {},
   "outputs": [],
   "source": [
    "for i, docx_path in enumerate(docx_pathes):\n",
    "    document = Document(docx_path)\n",
    "    table_pages = 5\n",
    "    if table_pages == 1:\n",
    "        rm_table = document.tables[2]\n",
    "        t = rm_table._element\n",
    "        t.getparent().remove(t)\n",
    "    \n",
    "        paragraphs = document.paragraphs\n",
    "        rm_paragraphs1 = paragraphs[-1]\n",
    "        rm_p1 = rm_paragraphs1._element\n",
    "        rm_p1.getparent().remove(rm_p1)\n",
    "    \n",
    "        rm_paragraphs2 = paragraphs[-2]\n",
    "        rm_p2 = rm_paragraphs2._element\n",
    "        rm_p2.getparent().remove(rm_p2)\n",
    "    elif table_pages == 2:\n",
    "        pass\n",
    "    else:\n",
    "        for _ in range(table_pages - 2):\n",
    "            cp_table = document.tables[2]\n",
    "            new_table = deepcopy(cp_table)\n",
    "            # document.add_page_break()\n",
    "            new_paragraph = document.add_page_break()\n",
    "            new_paragraph._p.addnext(new_table._element)\n",
    "            document.add_paragraph()\n",
    "    document.save(f'{os.path.expanduser(\"~/Desktop\")}/t{i}.docx')"
   ]
  },
  {
   "cell_type": "code",
   "execution_count": null,
   "metadata": {},
   "outputs": [],
   "source": [
    "templates_info = {\n",
    "    '定点有害物质': {\n",
    "        'template_path': './templates/有害物质个体采样记录.docx',\n",
    "        'direct-reading': False,\n",
    "        'project_num_row': 0,\n",
    "        'project_num_col': 1,\n",
    "        'company_name_row': 0,\n",
    "        'company_name_col': 4,\n",
    "        'deleterious_substance_row': 3,\n",
    "        'deleterious_substance_col': 1,\n",
    "        'first_page_rows': 18,\n",
    "        'late_page_rows': 24,\n",
    "        'title_rows': 2,\n",
    "        'item_rows': 6,\n",
    "        'available_cols': [0, 1, 2, 4]\n",
    "    },\n",
    "    '个体有害物质': {\n",
    "        'template_path': './templates/有害物质个体采样记录.docx',\n",
    "        'direct-reading': False,\n",
    "        'project_num_row': 0,\n",
    "        'project_num_col': 1,\n",
    "        'company_name_row': 0,\n",
    "        'company_name_col': 4,\n",
    "        'deleterious_substance_row': 3,\n",
    "        'deleterious_substance_col': 1,\n",
    "        'first_page_rows': 5,\n",
    "        'late_page_rows': 6,\n",
    "        'title_rows': 2,\n",
    "        'item_rows': 3,\n",
    "        'available_cols': [0, 1, 2, 4]\n",
    "    },\n",
    "    '定点噪声': {\n",
    "        'template_path': './templates/定点噪声.docx',\n",
    "        'direct-reading': True,\n",
    "        'project_num_row': 0,\n",
    "        'project_num_col': 1,\n",
    "        'company_name_row': 1,\n",
    "        'company_name_col': 1,\n",
    "        'deleterious_substance_row': 3,\n",
    "        'deleterious_substance_col': 1,\n",
    "        'first_page_rows': 10,\n",
    "        'late_page_rows': 12,\n",
    "        'title_rows': 2,\n",
    "        'item_rows': 1,\n",
    "        'available_cols': [0, 1, 2]\n",
    "    },\n",
    "    '个体噪声': {\n",
    "        'template_path': './templates/个体噪声.docx',\n",
    "        'direct-reading': True,\n",
    "        'project_num_row': 0,\n",
    "        'project_num_col': 1,\n",
    "        'company_name_row': 1,\n",
    "        'company_name_col': 1,\n",
    "        'deleterious_substance_row': 3,\n",
    "        'deleterious_substance_col': 1,\n",
    "        'first_page_rows': 9,\n",
    "        'late_page_rows': 11,\n",
    "        'title_rows': 2,\n",
    "        'item_rows': 1,\n",
    "        'available_cols': [0, 1, 2]\n",
    "    },\n",
    "    '高温': {\n",
    "        'template_path': './templates/高温.docx',\n",
    "        'direct-reading': True,\n",
    "        'project_num_row': 0,\n",
    "        'project_num_col': 1,\n",
    "        'company_name_row': 1,\n",
    "        'company_name_col': 1,\n",
    "        'deleterious_substance_row': 3,\n",
    "        'deleterious_substance_col': 1,\n",
    "        'first_page_rows': 9,\n",
    "        'late_page_rows': 18,\n",
    "        'title_rows': 3,\n",
    "        'item_rows': 3,\n",
    "        'available_cols': [0, 1]\n",
    "    },\n",
    "    '一氧化碳': {\n",
    "        'template_path': './templates/一氧化碳.docx',\n",
    "        'direct-reading': True,\n",
    "        'project_num_row': 0,\n",
    "        'project_num_col': 1,\n",
    "        'company_name_row': 0,\n",
    "        'company_name_col': 3,\n",
    "        'deleterious_substance_row': 3,\n",
    "        'deleterious_substance_col': 1,\n",
    "        'first_page_rows': 20,\n",
    "        'late_page_rows': 20,\n",
    "        'title_rows': 2,\n",
    "        'item_rows': 4,\n",
    "        'available_cols': [0, 1]\n",
    "    },\n",
    "}"
   ]
  },
  {
   "cell_type": "code",
   "execution_count": null,
   "metadata": {},
   "outputs": [],
   "source": [
    "for i, c_i in enumerate(templates_info['个体有害物质']['available_cols']):\n",
    "    point = (i, c_i)\n",
    "    print(point)"
   ]
  }
 ],
 "metadata": {
  "kernelspec": {
   "display_name": "Python 3.8.9 64-bit",
   "language": "python",
   "name": "python3"
  },
  "language_info": {
   "codemirror_mode": {
    "name": "ipython",
    "version": 3
   },
   "file_extension": ".py",
   "mimetype": "text/x-python",
   "name": "python",
   "nbconvert_exporter": "python",
   "pygments_lexer": "ipython3",
   "version": "3.11.6"
  },
  "orig_nbformat": 4,
  "vscode": {
   "interpreter": {
    "hash": "e0144baad0ecee903f108a3e46e51ceadd7da3fc904cfa79747d813b61464b4e"
   }
  }
 },
 "nbformat": 4,
 "nbformat_minor": 2
}
