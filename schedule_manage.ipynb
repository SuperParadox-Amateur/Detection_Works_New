{
 "cells": [
  {
   "cell_type": "markdown",
   "metadata": {},
   "source": [
    "# 采样时间安排测试\n"
   ]
  },
  {
   "cell_type": "code",
   "execution_count": null,
   "metadata": {},
   "outputs": [],
   "source": [
    "# import difflib\n",
    "\n",
    "from datetime import time, datetime, timedelta\n",
    "# import numpy as np\n",
    "import pandas as pd\n",
    "from nptyping import DataFrame\n",
    "from schedule_manage_module.schedule_manage import SampleScheduleManage\n",
    "# from occupational_health_module.occupational_health import OccupationalHealthItemInfo\n",
    "# from occupational_health_module.other_infos import templates_info"
   ]
  },
  {
   "cell_type": "code",
   "execution_count": null,
   "metadata": {},
   "outputs": [],
   "source": [
    "# company_name: str = '福建申远新材料有限公司'\n",
    "# project_name: str = '23ZDQ0007-10'\n",
    "\n",
    "# file_path: str = r'./templates/项目信息试验模板2.xlsx'\n",
    "# point_info_df: DataFrame = pd.read_excel(file_path, sheet_name='定点') # type: ignore\n",
    "# personnel_info_df: DataFrame = pd.read_excel(file_path, sheet_name='个体') # type: ignore"
   ]
  },
  {
   "cell_type": "code",
   "execution_count": null,
   "metadata": {},
   "outputs": [],
   "source": [
    "# new_project = OccupationalHealthItemInfo(company_name, project_name, point_info_df, personnel_info_df)"
   ]
  },
  {
   "cell_type": "code",
   "execution_count": null,
   "metadata": {},
   "outputs": [],
   "source": [
    "# test_raw_point_df = (\n",
    "#     new_project\n",
    "#     .output_deleterious_substance_info_dict\n",
    "#     ['1']['定点']\n",
    "# )\n",
    "\n",
    "# test_raw_point_df.head()"
   ]
  },
  {
   "cell_type": "code",
   "execution_count": null,
   "metadata": {},
   "outputs": [],
   "source": [
    "test_raw_point_df = pd.read_excel('./templates/采样时间安排模板2.xlsx', sheet_name='定点')\n",
    "\n",
    "test_raw_point_df.head()"
   ]
  },
  {
   "cell_type": "code",
   "execution_count": null,
   "metadata": {},
   "outputs": [],
   "source": [
    "instruments_raw = {\n",
    "    '收集方式': ['大气', '大气', '大气', '大气', '大气', '大气','粉尘','粉尘', '粉尘','粉尘','粉尘','粉尘','粉尘','粉尘'],\n",
    "    '代号': ['1Q1', '2Q1', '2Q2', '3Q1', '4Q1', '4Q2', '1F1', '1F2', '2F1', '2F2', '3F1', '3F2', '4F1', '4F2'],\n",
    "    '端口数': [2, 2, 2, 2, 2, 2, 2, 2, 2, 2, 2, 2, 2, 2],\n",
    "    '小组': ['1', '2', '2', '3', '4', '4', '1', '1', '2', '2', '3', '3', '4', '4'],\n",
    "    '启动时间': [\n",
    "        time(8, 0, 0),\n",
    "        time(8, 1, 0),\n",
    "        time(8, 1, 0),\n",
    "        time(8, 2, 0),\n",
    "        time(8, 3, 0),\n",
    "        time(8, 3, 0),\n",
    "        time(8, 0, 0),\n",
    "        time(8, 0, 0),\n",
    "        time(8, 1, 0),\n",
    "        time(8, 1, 0),\n",
    "        time(8, 2, 0),\n",
    "        time(8, 2, 0),\n",
    "        time(8, 3, 0),\n",
    "        time(8, 3, 0),\n",
    "        ],\n",
    "    '采样日程': [1, 1, 1, 1, 1, 1, 1, 1, 1, 1, 1, 1, 1, 1],\n",
    "    # '计划采样点': [147, 147, 147, 147],\n",
    "}\n",
    "\n",
    "instrument_df: DataFrame = pd.DataFrame(data=instruments_raw)#.set_index('代号')\n",
    "\n",
    "instrument_df.head()"
   ]
  },
  {
   "cell_type": "code",
   "execution_count": null,
   "metadata": {},
   "outputs": [],
   "source": [
    "instrument_df_copy = instrument_df.copy()\n",
    "\n",
    "instrument_df_copy['端口'] = (\n",
    "    instrument_df_copy['端口数']\n",
    "    .apply(lambda x: list(range(1, int(x) + 1)))\n",
    ")\n",
    "instrument_df_copy['启动时间'] = (\n",
    "    instrument_df_copy['启动时间']\n",
    "    .apply(lambda x: datetime.combine(datetime.today(), x))\n",
    ")\n",
    "instrument_df_copy = (\n",
    "    instrument_df_copy\n",
    "    .assign(\n",
    "        是否完成=False,\n",
    "        上一个采样点=0,\n",
    "        采样次数=0\n",
    "    )\n",
    ")\n",
    "\n",
    "instrument_df_copy.head()"
   ]
  },
  {
   "cell_type": "code",
   "execution_count": null,
   "metadata": {},
   "outputs": [],
   "source": [
    "instrument_df_copy.query('小组 == \"1\"').set_index('代号').iloc[0].name"
   ]
  },
  {
   "cell_type": "code",
   "execution_count": null,
   "metadata": {},
   "outputs": [],
   "source": [
    "groups: list[int] = instrument_df_copy['小组'].drop_duplicates().tolist()\n",
    "groups"
   ]
  },
  {
   "cell_type": "code",
   "execution_count": null,
   "metadata": {},
   "outputs": [],
   "source": [
    "gather_types = instrument_df_copy.query('小组 == \"1\"')['收集方式'].drop_duplicates().tolist()\n",
    "gather_types"
   ]
  },
  {
   "cell_type": "code",
   "execution_count": null,
   "metadata": {},
   "outputs": [],
   "source": [
    "remainder_rows_query_str: str = f'收集方式 in {gather_types} and 是否完成 == False'\n",
    "remainder_rows_query_str"
   ]
  },
  {
   "cell_type": "code",
   "execution_count": null,
   "metadata": {},
   "outputs": [],
   "source": [
    "# 当前小组的仪器可采样的点位数量\n",
    "test_raw_point_df = test_raw_point_df.assign(是否完成 = False)\n",
    "remainder_df: DataFrame = test_raw_point_df.query(remainder_rows_query_str)\n",
    "remainder_rows: int = remainder_df.shape[0]\n",
    "\n",
    "remainder_rows"
   ]
  },
  {
   "cell_type": "code",
   "execution_count": null,
   "metadata": {},
   "outputs": [],
   "source": [
    "# 仪器是否工作结束\n",
    "if remainder_rows == 0:\n",
    "    instrument_df_copy.loc[instrument_df_copy['小组'] == 1, '是否完成'] = True\n",
    "else:\n",
    "    pass\n"
   ]
  },
  {
   "cell_type": "code",
   "execution_count": null,
   "metadata": {},
   "outputs": [],
   "source": [
    "days: list[int] = instrument_df_copy['采样日程'].drop_duplicates().tolist()\n",
    "days"
   ]
  },
  {
   "cell_type": "code",
   "execution_count": null,
   "metadata": {},
   "outputs": [],
   "source": [
    "for day in days:\n",
    "    for group in groups:\n",
    "        group_instrument_df: DataFrame = (\n",
    "            instrument_df_copy\n",
    "            .query('小组 == @group and 采样日程 == @day')\n",
    "        )\n",
    "        print(group_instrument_df, '\\r\\n')\n",
    "        boot_time: time = group_instrument_df['启动时间'].max().time()\n",
    "        # print(boot_time)\n",
    "        all_time_span: int = 15 + 5\n",
    "        time_interval: timedelta = timedelta(minutes=all_time_span)\n",
    "        # print(time_interval)\n"
   ]
  },
  {
   "cell_type": "code",
   "execution_count": null,
   "metadata": {},
   "outputs": [],
   "source": [
    "break_time_df: DataFrame = pd.DataFrame(data={\n",
    "    '开始时间': [time(12, 0, 0), time(17, 30, 0)],\n",
    "    '结束时间': [time(13, 0, 0), time(19, 0, 0)],\n",
    "})\n",
    "\n",
    "break_time_df.head()"
   ]
  },
  {
   "cell_type": "code",
   "execution_count": null,
   "metadata": {},
   "outputs": [],
   "source": [
    "sample_project = SampleScheduleManage(test_raw_point_df, instrument_df, break_time_df, time_span=3)"
   ]
  },
  {
   "cell_type": "code",
   "execution_count": null,
   "metadata": {},
   "outputs": [],
   "source": [
    "sample_project.instruments"
   ]
  },
  {
   "cell_type": "code",
   "execution_count": null,
   "metadata": {},
   "outputs": [],
   "source": [
    "sample_project.sample_time_df.head()"
   ]
  },
  {
   "cell_type": "code",
   "execution_count": null,
   "metadata": {},
   "outputs": [],
   "source": [
    "sample_project.work_df.head()"
   ]
  },
  {
   "cell_type": "code",
   "execution_count": null,
   "metadata": {},
   "outputs": [],
   "source": [
    "# sample_project.sample_work()"
   ]
  },
  {
   "cell_type": "code",
   "execution_count": null,
   "metadata": {},
   "outputs": [],
   "source": [
    "# sample_project.work_df.head()"
   ]
  },
  {
   "cell_type": "code",
   "execution_count": null,
   "metadata": {},
   "outputs": [],
   "source": [
    "# round_num: int = int(sample_project.work_df['次序'].max())\n",
    "\n",
    "# round_num"
   ]
  },
  {
   "cell_type": "code",
   "execution_count": null,
   "metadata": {},
   "outputs": [],
   "source": [
    "# with pd.ExcelWriter('sample_schedule_manage_work_df测试1.xlsx') as writer:\n",
    "#     sample_project.work_df.to_excel(writer, sheet_name='定点采样', index=False)\n",
    "#     sample_project.sample_time_df.to_excel(writer, sheet_name='采样次序安排', index=False)"
   ]
  },
  {
   "cell_type": "code",
   "execution_count": null,
   "metadata": {},
   "outputs": [],
   "source": [
    "# sample_project.work_df.to_excel('sample_schedule_manage_work_df测试.xlsx', index=False)"
   ]
  },
  {
   "cell_type": "code",
   "execution_count": null,
   "metadata": {},
   "outputs": [],
   "source": [
    "# value_counts_df = (\n",
    "#     sample_project\n",
    "#     .work_df\n",
    "#     [['采样点编号', '收集方式', '是否完成']]\n",
    "#     .value_counts()\n",
    "#     .reset_index()\n",
    "#     .rename(columns={0: '数量'})\n",
    "# )\n",
    "\n",
    "# value_counts_df.head()"
   ]
  },
  {
   "cell_type": "code",
   "execution_count": null,
   "metadata": {},
   "outputs": [],
   "source": [
    "# class GasSampler():\n",
    "#     \"\"\"\n",
    "#     Gas Sampler\n",
    "#     \"\"\"\n",
    "#     def __init__(\n",
    "#             self,\n",
    "#             sample_type: str,\n",
    "#             ports: int,\n",
    "#             code_name: str,\n",
    "#             startup_time: time\n",
    "#         ) -> None:\n",
    "#         self.code_name: str = code_name\n",
    "#         self.name: str = '大气采样器'\n",
    "#         self.sample_type: str = sample_type\n",
    "#         self.ports: list[int] = list(range(1, ports + 1))\n",
    "#         self.startup_time: time = startup_time\n",
    "#         self.last_point: int = 0\n",
    "#         self.last_sample_time: int = 0\n",
    "#         self.is_sample: bool = True\n",
    "    \n",
    "#     def judge_is_sample(self, df: DataFrame) -> None:\n",
    "#         '''是否可以采样'''\n",
    "#         df_sample_count: int = (\n",
    "#             df\n",
    "#             .query(f'收集方式 == {self.sample_type} and 是否完成 == False')\n",
    "#             .shape[0]\n",
    "#         )\n",
    "#         if df_sample_count > 0:\n",
    "#             pass\n",
    "#         else:\n",
    "#             self.is_sample = False\n",
    "    \n",
    "#     def select_sample_point(self, df: DataFrame):\n",
    "#         '''选择采样点'''\n",
    "#         # 所有采样点\n",
    "#         sample_points: list[int] = df['采样点编号'].drop_duplicates().tolist()\n",
    "#         # [ ] 判断上一个采样点是否有符合要求的采样点\n",
    "#         # is_continue_sample: bool = (\n",
    "#         #     self.is_sample\n",
    "#         #     and\n",
    "\n",
    "#         # )\n",
    "#         if self.is_sample:\n",
    "#             if self.last_point == 0:\n",
    "#                 new_point: int = random.choice(sample_points)\n",
    "#                 self.last_point = new_point\n",
    "#                 pass\n",
    "#             pass\n",
    "    \n",
    "#     def do_sample(self, df: DataFrame):\n",
    "#         '''采样'''\n",
    "#         pass\n"
   ]
  },
  {
   "cell_type": "code",
   "execution_count": null,
   "metadata": {},
   "outputs": [],
   "source": [
    "# from openpyxl import Workbook\n",
    "# from openpyxl.worksheet.table import Table, TableStyleInfo\n",
    "\n",
    "# wb = Workbook()\n",
    "# ws = wb.active\n",
    "\n",
    "# data = [\n",
    "#     ['Apples', 10000, 5000, 8000, 6000],\n",
    "#     ['Pears',   2000, 3000, 4000, 5000],\n",
    "#     ['Bananas', 6000, 6000, 6500, 6000],\n",
    "#     ['Oranges',  500,  300,  200,  700],\n",
    "# ]\n",
    "\n",
    "# # add column headings. NB. these must be strings\n",
    "# ws.append([\"Fruit\", \"2011\", \"2012\", \"2013\", \"2014\"])\n",
    "# for row in data:\n",
    "#     ws.append(row)\n",
    "\n",
    "# tab = Table(displayName=\"Table1\", ref=\"A1:E5\")\n",
    "\n",
    "# # Add a default style with striped rows and banded columns\n",
    "# style = TableStyleInfo(name=\"TableStyleMedium10\", showFirstColumn=False,\n",
    "#                        showLastColumn=False, showRowStripes=True, showColumnStripes=True)\n",
    "# tab.tableStyleInfo = style\n",
    "\n",
    "# '''\n",
    "# Table must be added using ws.add_table() method to avoid duplicate names.\n",
    "# Using this method ensures table name is unque through out defined names and all other table name. \n",
    "# '''\n",
    "# ws.add_table(tab)\n",
    "# wb.save(\"table.xlsx\")"
   ]
  },
  {
   "cell_type": "code",
   "execution_count": null,
   "metadata": {},
   "outputs": [],
   "source": [
    "# test_df: DataFrame = pd.read_clipboard()\n",
    "\n",
    "# test_df.head()"
   ]
  },
  {
   "cell_type": "code",
   "execution_count": null,
   "metadata": {},
   "outputs": [],
   "source": [
    "# test_df['点位'] = test_df['车间/单元'].str.cat(\n",
    "#     [test_df['岗位'], test_df['工种']],\n",
    "#     sep=' '\n",
    "#     )\n",
    "\n",
    "# test_df.head()"
   ]
  },
  {
   "cell_type": "code",
   "execution_count": null,
   "metadata": {},
   "outputs": [],
   "source": [
    "# new_df = test_df[['采样点编号', '点位']].drop_duplicates().reset_index(drop=True)\n",
    "\n",
    "# new_df.head()"
   ]
  },
  {
   "cell_type": "code",
   "execution_count": null,
   "metadata": {},
   "outputs": [],
   "source": [
    "# address_name_list: list[str] = new_df['点位'].tolist()"
   ]
  },
  {
   "cell_type": "code",
   "execution_count": null,
   "metadata": {},
   "outputs": [],
   "source": [
    "# diff_list: list[list[float]] = []\n",
    "\n",
    "# for address_i in address_name_list:\n",
    "#     current_diff_list: list[float] = []\n",
    "#     for address_j in address_name_list:\n",
    "#         diff: float = difflib.SequenceMatcher(None, address_i, address_j).ratio()\n",
    "#         current_diff_list.append(diff)\n",
    "#     diff_list.append(current_diff_list)\n",
    "    "
   ]
  },
  {
   "cell_type": "code",
   "execution_count": null,
   "metadata": {},
   "outputs": [],
   "source": [
    "# diff_array = np.array(diff_list)\n",
    "\n",
    "# diff_array"
   ]
  },
  {
   "cell_type": "code",
   "execution_count": null,
   "metadata": {},
   "outputs": [],
   "source": [
    "# np.savetxt('diff_array.csv', diff_array, delimiter=',')"
   ]
  },
  {
   "cell_type": "code",
   "execution_count": null,
   "metadata": {},
   "outputs": [],
   "source": [
    "# a = '精炼部连铸机 7连铸机钢水下料口（方坯） 中浇工'\n",
    "# b = '精炼部连铸机 2连铸机钢水下料口（方坯） 中浇工'\n",
    "# c = '精炼部连铸机 2连铸机钢水下料口(板坯） 中浇工'"
   ]
  },
  {
   "cell_type": "code",
   "execution_count": null,
   "metadata": {},
   "outputs": [],
   "source": [
    "# difflib.SequenceMatcher(None, a, b).ratio()"
   ]
  },
  {
   "cell_type": "code",
   "execution_count": null,
   "metadata": {},
   "outputs": [],
   "source": [
    "# difflib.SequenceMatcher(None, a, c).ratio()"
   ]
  },
  {
   "cell_type": "code",
   "execution_count": null,
   "metadata": {},
   "outputs": [],
   "source": [
    "# difflib.SequenceMatcher(None, b, c).ratio()"
   ]
  }
 ],
 "metadata": {
  "kernelspec": {
   "display_name": "Python 3.8.9 64-bit",
   "language": "python",
   "name": "python3"
  },
  "language_info": {
   "codemirror_mode": {
    "name": "ipython",
    "version": 3
   },
   "file_extension": ".py",
   "mimetype": "text/x-python",
   "name": "python",
   "nbconvert_exporter": "python",
   "pygments_lexer": "ipython3",
   "version": "3.12.2"
  },
  "vscode": {
   "interpreter": {
    "hash": "e0144baad0ecee903f108a3e46e51ceadd7da3fc904cfa79747d813b61464b4e"
   }
  }
 },
 "nbformat": 4,
 "nbformat_minor": 2
}
