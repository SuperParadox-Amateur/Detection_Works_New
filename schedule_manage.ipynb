{
 "cells": [
  {
   "cell_type": "markdown",
   "metadata": {},
   "source": [
    "# 采样时间安排测试\n"
   ]
  },
  {
   "cell_type": "code",
   "execution_count": null,
   "metadata": {},
   "outputs": [],
   "source": [
    "from datetime import time\n",
    "import random\n",
    "\n",
    "import pandas as pd\n",
    "from nptyping import DataFrame\n",
    "from occupational_health_module.occupational_health import OccupationalHealthItemInfo\n",
    "from occupational_health_module.other_infos import templates_info"
   ]
  },
  {
   "cell_type": "code",
   "execution_count": null,
   "metadata": {},
   "outputs": [],
   "source": [
    "company_name: str = 'MSCN'\n",
    "project_name: str = '23ZXP0000'\n",
    "\n",
    "file_path: str = r'./templates/项目信息试验模板2.xlsx'\n",
    "point_info_df: DataFrame = pd.read_excel(file_path, sheet_name='定点') # type: ignore\n",
    "personnel_info_df: DataFrame = pd.read_excel(file_path, sheet_name='个体') # type: ignore"
   ]
  },
  {
   "cell_type": "code",
   "execution_count": null,
   "metadata": {},
   "outputs": [],
   "source": [
    "# point_info_df['采样日程'].str.split('|')"
   ]
  },
  {
   "cell_type": "code",
   "execution_count": null,
   "metadata": {},
   "outputs": [],
   "source": [
    "new_project = OccupationalHealthItemInfo(company_name, project_name, point_info_df, personnel_info_df)"
   ]
  },
  {
   "cell_type": "code",
   "execution_count": null,
   "metadata": {},
   "outputs": [],
   "source": [
    "test_raw_point_df = (\n",
    "    new_project\n",
    "    .output_deleterious_substance_info_dict\n",
    "    ['1']['定点']\n",
    ")\n",
    "\n",
    "test_raw_point_df['采样批次'] = (\n",
    "    test_raw_point_df['采样数量/天']\n",
    "    .apply(lambda x: list(range(1, x + 1)))\n",
    ")\n",
    "\n",
    "available_cols: list[str] = [\n",
    "    '采样点编号',\n",
    "    '单元',\n",
    "    '检测地点',\n",
    "    '工种',\n",
    "    '日接触时间',\n",
    "    '检测因素',\n",
    "    '收集方式',\n",
    "    '定点采样时间',\n",
    "    '采样数量/天',\n",
    "    '采样日程',\n",
    "    '采样批次',\n",
    "]\n",
    "\n",
    "test_point_df = (\n",
    "    test_raw_point_df.explode('采样批次')\n",
    "    .sort_values(['采样点编号'])\n",
    "    .reset_index(drop=True)\n",
    "    [available_cols]\n",
    ")\n",
    "\n",
    "test_point_df.head()"
   ]
  },
  {
   "cell_type": "code",
   "execution_count": null,
   "metadata": {},
   "outputs": [],
   "source": [
    "instruments_raw = {\n",
    "    '收集方式': ['大气', '大气', '大气'],\n",
    "    '代号': ['Q1', 'Q2', 'Q3'],\n",
    "    '端口数': ['2', '2', '2'],\n",
    "    '启动时间': [\n",
    "        time(8, 0, 0),\n",
    "        time(8, 0, 0),\n",
    "        time(8, 0, 0),\n",
    "        ],\n",
    "}\n",
    "\n",
    "instrument_df: DataFrame = pd.DataFrame(data=instruments_raw).set_index('代号')\n",
    "instrument_df['端口'] = instrument_df['端口数'].apply(lambda x: list(range(1, int(x) + 1)))\n",
    "# instrument_df = instrument_df.explode('端口')\n",
    "\n",
    "instrument_df.head()"
   ]
  },
  {
   "cell_type": "code",
   "execution_count": null,
   "metadata": {},
   "outputs": [],
   "source": [
    "def initialize_instruments(instrument_df: DataFrame):\n",
    "    instrument_df = instrument_df.assign(是否完成=False, 上一个采样点=0)\n",
    "\n",
    "    return instrument_df\n",
    "\n",
    "initialize_instruments(instrument_df)"
   ]
  },
  {
   "cell_type": "code",
   "execution_count": null,
   "metadata": {},
   "outputs": [],
   "source": [
    "class SampleScheduleManage():\n",
    "    '''采样时间安排'''\n",
    "    def __init__(self, raw_work_df: DataFrame, instruments: dict) -> None:\n",
    "        self.instruments: dict = instruments # 仪器字典\n",
    "        self.work_df: DataFrame = self.initialize_work_df(raw_work_df)\n",
    "        pass\n",
    "\n",
    "    def initialize_work_df(self, raw_work_df: DataFrame) -> DataFrame:\n",
    "        new_false_col = pd.Series([False] * len(raw_work_df), name='是否完成')\n",
    "        raw_work_df = raw_work_df.assign(是否完成=new_false_col)\n",
    "        raw_work_df['采样批次'] = (\n",
    "            raw_work_df['采样数量/天']\n",
    "            .apply(lambda x: list(range(1, x + 1)))\n",
    "        )\n",
    "\n",
    "        available_cols: list[str] = [\n",
    "            '采样点编号',\n",
    "            '单元',\n",
    "            '检测地点',\n",
    "            '工种',\n",
    "            '日接触时间',\n",
    "            '检测因素',\n",
    "            '收集方式',\n",
    "            '定点采样时间',\n",
    "            '采样数量/天',\n",
    "            '采样日程',\n",
    "            '采样批次',\n",
    "        ]\n",
    "\n",
    "        work_df: DataFrame = (\n",
    "            raw_work_df.explode('采样批次')\n",
    "            .sort_values(['采样点编号'])\n",
    "            .reset_index(drop=True)\n",
    "            [available_cols]\n",
    "        )\n",
    "        return work_df"
   ]
  },
  {
   "cell_type": "code",
   "execution_count": null,
   "metadata": {},
   "outputs": [],
   "source": [
    "class GasSampler():\n",
    "    \"\"\"\n",
    "    Gas Sampler\n",
    "    \"\"\"\n",
    "    def __init__(\n",
    "            self,\n",
    "            sample_type: str,\n",
    "            ports: int,\n",
    "            code_name: str,\n",
    "            startup_time: time\n",
    "        ) -> None:\n",
    "        self.code_name: str = code_name\n",
    "        self.name: str = '大气采样器'\n",
    "        self.sample_type: str = sample_type\n",
    "        self.ports: list[int] = list(range(1, ports + 1))\n",
    "        self.startup_time: time = startup_time\n",
    "        self.last_point: int = 0\n",
    "        self.last_sample_time: int = 0\n",
    "        self.is_sample: bool = True\n",
    "    \n",
    "    def judge_is_sample(self, df: DataFrame) -> None:\n",
    "        '''是否可以采样'''\n",
    "        df_sample_count: int = (\n",
    "            df\n",
    "            .query(f'收集方式 == {self.sample_type} and 是否完成 == False')\n",
    "            .shape[0]\n",
    "        )\n",
    "        if df_sample_count > 0:\n",
    "            pass\n",
    "        else:\n",
    "            self.is_sample = False\n",
    "    \n",
    "    def select_sample_point(self, df: DataFrame):\n",
    "        '''选择采样点'''\n",
    "        # 所有采样点\n",
    "        sample_points: list[int] = df['采样点编号'].drop_duplicates().tolist()\n",
    "        # [ ] 判断上一个采样点是否有符合要求的采样点\n",
    "        # is_continue_sample: bool = (\n",
    "        #     self.is_sample\n",
    "        #     and\n",
    "\n",
    "        # )\n",
    "        if self.is_sample:\n",
    "            if self.last_point == 0:\n",
    "                new_point: int = random.choice(sample_points)\n",
    "                self.last_point = new_point\n",
    "                pass\n",
    "            pass\n",
    "    \n",
    "    def do_sample(self, df: DataFrame):\n",
    "        '''采样'''\n",
    "        pass\n"
   ]
  },
  {
   "cell_type": "code",
   "execution_count": null,
   "metadata": {},
   "outputs": [],
   "source": [
    "# Q1 = GasSampler('Q1', startup_time)"
   ]
  },
  {
   "cell_type": "code",
   "execution_count": null,
   "metadata": {},
   "outputs": [],
   "source": [
    "times_1_df: DataFrame = test_point_df[test_point_df['采样批次'] == 1]#.reset_index(drop=True)\n",
    "new_false_col = pd.Series([False] * len(times_1_df), name='是否完成')\n",
    "times_1_df = times_1_df.assign(是否完成=new_false_col)\n",
    "\n",
    "times_1_df.head()"
   ]
  },
  {
   "cell_type": "code",
   "execution_count": null,
   "metadata": {},
   "outputs": [],
   "source": [
    "times_1_df.query('收集方式 == \"大气\"')['采样点编号'].drop_duplicates().tolist()"
   ]
  },
  {
   "cell_type": "code",
   "execution_count": null,
   "metadata": {},
   "outputs": [],
   "source": [
    "sample_points: list[int] = times_1_df['采样点编号'].drop_duplicates().tolist()\n",
    "\n",
    "sample_points"
   ]
  },
  {
   "cell_type": "code",
   "execution_count": null,
   "metadata": {},
   "outputs": [],
   "source": [
    "current_point: int = random.choice(sample_points)\n",
    "current_point"
   ]
  },
  {
   "cell_type": "code",
   "execution_count": null,
   "metadata": {},
   "outputs": [],
   "source": [
    "for n in sample_points:\n",
    "    # 当前点位的df\n",
    "    current_df: DataFrame = times_1_df.query(f'采样点编号 == {n}')\n",
    "    # current_df.head()\n",
    "    # current_df['收集方式'].value_counts()#['大气']\n",
    "    # 当前点位的大气检测因素的数量\n",
    "    current_count = current_df['收集方式'].value_counts()\n",
    "    # print(current_count)\n",
    "    if '大气' in current_count.index:\n",
    "        print(n, current_count['大气'])\n",
    "    else:\n",
    "        print(n, 0)"
   ]
  },
  {
   "cell_type": "code",
   "execution_count": null,
   "metadata": {},
   "outputs": [],
   "source": []
  }
 ],
 "metadata": {
  "kernelspec": {
   "display_name": "Python 3",
   "language": "python",
   "name": "python3"
  },
  "language_info": {
   "codemirror_mode": {
    "name": "ipython",
    "version": 3
   },
   "file_extension": ".py",
   "mimetype": "text/x-python",
   "name": "python",
   "nbconvert_exporter": "python",
   "pygments_lexer": "ipython3",
   "version": "3.11.6"
  }
 },
 "nbformat": 4,
 "nbformat_minor": 2
}
