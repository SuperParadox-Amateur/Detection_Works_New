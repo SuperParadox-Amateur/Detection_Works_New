{
 "cells": [
  {
   "cell_type": "code",
   "execution_count": null,
   "metadata": {},
   "outputs": [],
   "source": [
    "import pandas as pd"
   ]
  },
  {
   "cell_type": "code",
   "execution_count": null,
   "metadata": {},
   "outputs": [],
   "source": [
    "company_name: str = '万华化学（福建）有限公司'\n",
    "project_code: str = '23ZKP0019'\n",
    "\n",
    "file_path: str = 'WT23ZKP0019系统生成编号.xlsx'"
   ]
  },
  {
   "cell_type": "code",
   "execution_count": null,
   "metadata": {},
   "outputs": [],
   "source": [
    "available_cols: list[str] = [\n",
    "    '样品类型',\n",
    "    '样品编号',\n",
    "    '样品名称',\n",
    "    '检测参数',\n",
    "    '单元',\n",
    "    '工种/岗位',\n",
    "    '检测地点',\n",
    "    '测点编号',\n",
    "    '第几天',\n",
    "    '第几个频次',\n",
    "    '采样方式',\n",
    "    '作业人数',\n",
    "    '日接触时长/h',\n",
    "    '周工作天数/d',\n",
    "]\n",
    "\n",
    "df = pd.read_excel(file_path, sheet_name=0, usecols=available_cols)\n",
    "df['样品编号'] = df['样品编号'].apply(lambda x: x.replace(project_code, ''))\n",
    "\n",
    "df.head()"
   ]
  },
  {
   "cell_type": "code",
   "execution_count": null,
   "metadata": {},
   "outputs": [],
   "source": [
    "raw_blank_df = df.query('样品类型 == \"空白样\"').reset_index(drop=True)\n",
    "\n",
    "raw_blank_df.head()"
   ]
  },
  {
   "cell_type": "code",
   "execution_count": null,
   "metadata": {},
   "outputs": [],
   "source": [
    "blank_df = raw_blank_df[raw_blank_df['第几天'] == 1].pivot(\n",
    "    index='检测参数',\n",
    "    columns='第几个频次',\n",
    "    values='样品编号'\n",
    ").rename(columns={1: '空白编号1', 2: '空白编号2'})\n",
    "\n",
    "blank_df"
   ]
  },
  {
   "cell_type": "code",
   "execution_count": null,
   "metadata": {},
   "outputs": [],
   "source": [
    "raw_point_df = df.query('样品类型 == \"普通样\" and 采样方式 == \"定点\" and 样品名称 != \"工作场所物理因素\"').reset_index(drop=True)\n",
    "raw_point_df['样品编号'] = raw_point_df['样品编号'].astype(int)\n",
    "\n",
    "raw_point_df.head()"
   ]
  },
  {
   "cell_type": "code",
   "execution_count": null,
   "metadata": {},
   "outputs": [],
   "source": [
    "groupby_point_df = raw_point_df.groupby(\n",
    "    [\n",
    "        '测点编号',\n",
    "        '单元',\n",
    "        '检测地点',\n",
    "        '工种/岗位',\n",
    "        '检测参数',\n",
    "        '第几天',\n",
    "        '日接触时长/h'\n",
    "    ]\n",
    ")['样品编号'].agg(list).reset_index(drop=False)\n",
    "groupby_point_df['样品数量'] = groupby_point_df['样品编号'].apply(lambda x: len(x))\n",
    "groupby_point_df['是否合并代表时长'] = groupby_point_df.apply(lambda df: True if df['日接触时长/h'] / df['样品数量'] < 0.25 else False, axis=1)\n",
    "\n",
    "groupby_point_df.head()"
   ]
  },
  {
   "cell_type": "code",
   "execution_count": null,
   "metadata": {},
   "outputs": [],
   "source": [
    "pivoted_point_df = pd.pivot_table(\n",
    "    data=raw_point_df[raw_point_df['第几天'] == 1],\n",
    "    index=[\n",
    "        '测点编号',\n",
    "        '单元',\n",
    "        '检测地点',\n",
    "        '工种/岗位',\n",
    "        '日接触时长/h',\n",
    "        '检测参数'\n",
    "    ],\n",
    "    # aggfunc={'样品编号': min, '样品编号': max}\n",
    "    values='样品编号',\n",
    "    aggfunc=[min, max]\n",
    ").rename(columns={'min': '起始样品编号', 'max': '终止样品编号'}).reset_index().droplevel(1, axis=1)\n",
    "\n",
    "pivoted_point_df['样品数量'] = pivoted_point_df['终止样品编号'] - pivoted_point_df['起始样品编号'] + 1\n",
    "\n",
    "point_df = pivoted_point_df.merge(\n",
    "    blank_df,\n",
    "    how='outer',\n",
    "    left_on='检测参数',\n",
    "    right_on='检测参数'\n",
    ").fillna({'空白编号1': '', '空白编号2': ''})\n",
    "\n",
    "point_df['是否合并代表时长'] = point_df.apply(lambda df: True if df['日接触时长/h'] / df['样品数量'] < 0.25 else False, axis=1)\n",
    "\n",
    "point_df.head()"
   ]
  },
  {
   "cell_type": "code",
   "execution_count": null,
   "metadata": {},
   "outputs": [],
   "source": []
  }
 ],
 "metadata": {
  "kernelspec": {
   "display_name": "Python 3",
   "language": "python",
   "name": "python3"
  },
  "language_info": {
   "codemirror_mode": {
    "name": "ipython",
    "version": 3
   },
   "file_extension": ".py",
   "mimetype": "text/x-python",
   "name": "python",
   "nbconvert_exporter": "python",
   "pygments_lexer": "ipython3",
   "version": "3.11.6"
  }
 },
 "nbformat": 4,
 "nbformat_minor": 2
}
