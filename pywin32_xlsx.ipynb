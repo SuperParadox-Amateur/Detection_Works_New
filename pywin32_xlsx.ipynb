{
 "cells": [
  {
   "cell_type": "code",
   "execution_count": null,
   "metadata": {},
   "outputs": [],
   "source": [
    "import os\n",
    "from win32com.client import DispatchEx\n",
    "import pandas as pd"
   ]
  },
  {
   "cell_type": "code",
   "execution_count": null,
   "metadata": {},
   "outputs": [],
   "source": [
    "xlapp = DispatchEx('Excel.Application')\n",
    "xlapp.Visible = True\n",
    "xlapp.DisplayAlerts = False"
   ]
  },
  {
   "cell_type": "code",
   "execution_count": null,
   "metadata": {},
   "outputs": [],
   "source": [
    "file_path = os.path.join(os.path.expanduser('~'), 'Desktop', 'WT23ZDQ0063系统生成编号.xlsx')"
   ]
  },
  {
   "cell_type": "code",
   "execution_count": null,
   "metadata": {},
   "outputs": [],
   "source": [
    "xlbook = xlapp.Workbooks.Open(file_path)\n",
    "xlsheet = xlbook.Worksheets(1)"
   ]
  },
  {
   "cell_type": "code",
   "execution_count": null,
   "metadata": {},
   "outputs": [],
   "source": [
    "row = xlsheet.UsedRange.Rows.Count\n",
    "col = xlsheet.UsedRange.Columns.Count\n",
    "\n",
    "print(row, col)"
   ]
  },
  {
   "cell_type": "code",
   "execution_count": null,
   "metadata": {},
   "outputs": [],
   "source": [
    "xlsheet.Cells(1, 1).Value"
   ]
  },
  {
   "cell_type": "code",
   "execution_count": null,
   "metadata": {},
   "outputs": [],
   "source": [
    "values = list(xlsheet.Range(xlsheet.Cells(1,1),xlsheet.Cells(row,col)).Value)\n",
    "values_str: list[list[str]] = []\n",
    "for value in values:\n",
    "    value_list: list[str] = [str(item) for item in value]\n",
    "    values_str.append(value_list)\n",
    "\n",
    "print(values_str[0])"
   ]
  },
  {
   "cell_type": "code",
   "execution_count": null,
   "metadata": {},
   "outputs": [],
   "source": [
    "cols_dtypes = {\n",
    "    '样品类型': str,\n",
    "    '样品编号': str,\n",
    "    '样品名称': str,\n",
    "    '检测参数': str,\n",
    "    # '采样/送样日期': datetime,\n",
    "    '单元': str,\n",
    "    '工种/岗位': str,\n",
    "    '检测地点': str,\n",
    "    '测点编号': int,\n",
    "    '第几天': int,\n",
    "    '第几个频次': int,\n",
    "    '采样方式': str,\n",
    "    '作业人数': int,\n",
    "    '日接触时长/h': float,\n",
    "    '周工作天数/d': float,\n",
    "}"
   ]
  },
  {
   "cell_type": "code",
   "execution_count": null,
   "metadata": {},
   "outputs": [],
   "source": [
    "df = pd.DataFrame(\n",
    "    data=values_str[1:],\n",
    "    columns=values_str[0],\n",
    ")\n",
    "df = df.astype(cols_dtypes)\n",
    "\n",
    "df.dtypes"
   ]
  },
  {
   "cell_type": "code",
   "execution_count": 68,
   "metadata": {},
   "outputs": [],
   "source": [
    "xlapp.Quit()"
   ]
  },
  {
   "cell_type": "code",
   "execution_count": null,
   "metadata": {},
   "outputs": [],
   "source": []
  }
 ],
 "metadata": {
  "kernelspec": {
   "display_name": "Python 3",
   "language": "python",
   "name": "python3"
  },
  "language_info": {
   "codemirror_mode": {
    "name": "ipython",
    "version": 3
   },
   "file_extension": ".py",
   "mimetype": "text/x-python",
   "name": "python",
   "nbconvert_exporter": "python",
   "pygments_lexer": "ipython3",
   "version": "3.11.6"
  }
 },
 "nbformat": 4,
 "nbformat_minor": 2
}
